{
 "cells": [
  {
   "cell_type": "code",
   "execution_count": null,
   "id": "4278f71f-332c-4b41-af9b-9107bac9ed3f",
   "metadata": {},
   "outputs": [],
   "source": [
    "import healpy as hp\n",
    "import matplotlib.pyplot as plt\n",
    "import numpy as np\n",
    "from astropy.io import fits\n",
    "import pysm3 as pysm\n",
    "import pysm3.units as u\n",
    "import scipy.constants as con\n",
    "import matplotlib as mpl\n",
    "import wget"
   ]
  },
  {
   "cell_type": "code",
   "execution_count": null,
   "id": "4274fbd9-7af1-4207-b626-057d76c2d32e",
   "metadata": {},
   "outputs": [],
   "source": [
    "pysm.__version__"
   ]
  },
  {
   "cell_type": "code",
   "execution_count": null,
   "id": "8f048498-816c-45d7-9a36-e04a00da0eeb",
   "metadata": {},
   "outputs": [],
   "source": [
    "mpl.rcParams['font.sans-serif'] = \"Helvetica\"\n",
    "plt.style.use('default')"
   ]
  },
  {
   "cell_type": "code",
   "execution_count": null,
   "id": "1961f4ca",
   "metadata": {},
   "outputs": [],
   "source": [
    "mask = hp.read_map(\"/global/cfs/cdirs/cmb/www/pysm-methods-paper/map_based_dust_validation/mask_zero_lvl_nside_2048.fits\")"
   ]
  },
  {
   "cell_type": "code",
   "execution_count": null,
   "id": "ffe3ad05",
   "metadata": {},
   "outputs": [],
   "source": [
    "pr3_wo_CMB_Wiener = hp.read_map(\"/global/cfs/cdirs/cmb/www/pysm-methods-paper/map_based_dust_validation/pr3_353_wo_CMB_Wiener_reso_4.94arcmin_nside_2048.fits\", field = None)"
   ]
  },
  {
   "cell_type": "code",
   "execution_count": null,
   "id": "f37b55e7-4267-41d9-bcc6-248a3f56528d",
   "metadata": {},
   "outputs": [],
   "source": [
    "fig0 = plt.figure(figsize = (10, 4), dpi = 700)\n",
    "alpha_mask = np.copy(mask)\n",
    "alpha_mask[mask == 0] = 0.3\n",
    "# hp.projview(pr3_wo_CMB_Wiener[0], rot = [0, 90], coord=[\"G\"], cmap=plt.cm.Spectral_r, alpha = alpha_mask, min = 0, max = 1500, title = \"\", unit = r\"$\\mu K_{CMB}$\", projection_type=\"polar\", graticule = True, graticule_labels = True)\n",
    "hp.orthview(pr3_wo_CMB_Wiener[0], rot = [0, 90], coord = \"G\", cmap=plt.cm.YlGnBu, alpha = alpha_mask, min = 0, max = 1500, title = \"\", unit = r\"$\\mu K_{CMB}$\", fig = fig0.number)\n",
    "hp.graticule(ls = \"-\", lw = .2, c = \"k\")\n",
    "plt.savefig(\"../figures/mask_intxPR3_zero_lvl.png\")"
   ]
  },
  {
   "cell_type": "code",
   "execution_count": null,
   "id": "6408cbb5-0a5e-481b-b76f-7b9a607ce4e6",
   "metadata": {},
   "outputs": [],
   "source": [
    "pr3_wo_CMB_Wiener = hp.read_map(\"/global/cfs/cdirs/cmb/www/pysm-methods-paper/map_based_dust_validation/zero_lvl_rm_pr3_353_wo_CMB_Wiener_reso_4.94arcmin_nside_2048.fits\", field = None)\n",
    "d9_bpi = hp.read_map(\"/global/cfs/cdirs/cmb/www/pysm-methods-paper/map_based_dust_validation/zero_lvl_rm_d9_bpi_353_reso_4.94arcmin_nside_2048.fits\", field = None)\n",
    "d11_bpi = hp.read_map(\"/global/cfs/cdirs/cmb/www/pysm-methods-paper/map_based_dust_validation/zero_lvl_rm_d11_bpi_353_reso_4.94arcmin_nside_2048.fits\", field = None)\n",
    "d12_bpi = hp.read_map(\"/global/cfs/cdirs/cmb/www/pysm-methods-paper/map_based_dust_validation/zero_lvl_rm_d12_bpi_353_reso_4.94arcmin_nside_2048.fits\", field = None)"
   ]
  },
  {
   "cell_type": "code",
   "execution_count": null,
   "id": "8af97029-28d5-4072-80bb-5fedd301b124",
   "metadata": {},
   "outputs": [],
   "source": [
    "pr3_wo_CMB_Wiener_res_change = hp.read_map(\"/global/cfs/cdirs/cmb/www/pysm-methods-paper/map_based_dust_validation/pr3_353_wo_CMB_Wiener_reso_30arcmin_nside_2048.fits\", field = None)\n",
    "d9_bpi_res_change = hp.read_map(\"/global/cfs/cdirs/cmb/www/pysm-methods-paper/map_based_dust_validation/d9_bpi_353_reso_30arcmin_nside_2048.fits\", field = None)\n",
    "d11_bpi_res_change = hp.read_map(\"/global/cfs/cdirs/cmb/www/pysm-methods-paper/map_based_dust_validation/d11_bpi_353_reso_30arcmin_nside_2048.fits\", field = None)\n",
    "d12_bpi_res_change = hp.read_map(\"/global/cfs/cdirs/cmb/www/pysm-methods-paper/map_based_dust_validation/d12_bpi_353_reso_30arcmin_nside_2048.fits\", field = None)"
   ]
  },
  {
   "cell_type": "markdown",
   "id": "eeac004c-8c03-43aa-a705-b746abcba1c1",
   "metadata": {},
   "source": [
    "## Intensity"
   ]
  },
  {
   "cell_type": "markdown",
   "id": "766b1e12-c2d5-4dc8-99dd-78aef586b265",
   "metadata": {},
   "source": [
    "### Close to the galactic plane"
   ]
  },
  {
   "cell_type": "code",
   "execution_count": null,
   "id": "426b82a8-95d5-44c9-8294-26caa9485351",
   "metadata": {},
   "outputs": [],
   "source": [
    "fig0 = plt.figure(figsize = (4, 6), dpi = 300)\n",
    "lon = 180\n",
    "lat = -10\n",
    "hp.gnomview(pr3_wo_CMB_Wiener[0], rot = [lon, lat], reso = 5, min = 2.16e3, fig = fig0.number, max = 2.8e4, title = f\"(a) ({lon}°, {lat}°)\", sub = (2, 2, 1), notext= True, cmap = plt.cm.hot, unit = r\"$\\mu K_{CMB}$\")\n",
    "hp.graticule(lw = 0.3, color = \"white\", dpar=4, dmer = 4)\n",
    "hp.gnomview(d9_bpi[0], rot = [lon, lat], reso = 5, min = 2.16e3, fig = fig0.number, max = 2.8e4, title = f\"(b) ({lon}°, {lat}°)\", sub = (2, 2, 2), notext= True, cmap = plt.cm.hot, unit = r\"$\\mu K_{CMB}$\")\n",
    "hp.graticule(lw = 0.3, color = \"white\", dpar=4, dmer = 4)\n",
    "hp.gnomview(d11_bpi[0], rot = [lon, lat], reso = 5, min = 2.16e3, fig = fig0.number, max = 2.8e4, title = f\"(c) ({lon}°, {lat}°)\", sub = (2, 2, 3), notext= True, cmap = plt.cm.hot, unit = r\"$\\mu K_{CMB}$\")\n",
    "hp.graticule(lw = 0.3, color = \"white\", dpar=4, dmer = 4)\n",
    "hp.gnomview(d12_bpi[0], rot = [lon, lat], reso = 5, min = 2.16e3, fig = fig0.number, max = 2.8e4, title = f\"(d) ({lon}°, {lat}°)\", sub = (2, 2, 4), notext= True, cmap = plt.cm.hot, unit = r\"$\\mu K_{CMB}$\")\n",
    "hp.graticule(lw = 0.3, color = \"white\", dpar=4, dmer = 4)\n",
    "plt.savefig(\"../figures/gal_plane_non_smooth_wo_zero_lvl.png\")"
   ]
  },
  {
   "cell_type": "markdown",
   "id": "09338ad8-f29d-4d87-a3f8-9e1d2d0fd779",
   "metadata": {},
   "source": [
    "### Centered on Bicep Keck patch"
   ]
  },
  {
   "cell_type": "code",
   "execution_count": null,
   "id": "22a5ac77",
   "metadata": {},
   "outputs": [],
   "source": [
    "fig0 = plt.figure(figsize = (4, 6), dpi = 300)\n",
    "\n",
    "lon = 318\n",
    "lat = -61\n",
    "gnomview_pr3_wo_CMB_Wiener_res_change = hp.gnomview(pr3_wo_CMB_Wiener_res_change[0], rot = [lon, lat], reso = 5, min = 500, fig = fig0.number, max = 650, title = f\"(a) ({lon}°, {lat}°)\", sub = (2, 2, 1), notext= True, cmap = plt.cm.hot, unit = r\"$\\mu K_{CMB}$\", return_projected_map = True)\n",
    "hp.graticule(lw = 0.3, color = \"white\", dpar=4, dmer = 4)\n",
    "gnomview_d9_bpi_res_change = hp.gnomview(d9_bpi_res_change[0], rot = [lon, lat], reso = 5, min = 500, fig = fig0.number, max = 650, title = f\"(b) ({lon}°, {lat}°)\", sub = (2, 2, 2), notext= True, cmap = plt.cm.hot, unit = r\"$\\mu K_{CMB}$\", return_projected_map = True)\n",
    "hp.graticule(lw = 0.3, color = \"white\", dpar=4, dmer = 4)\n",
    "gnomview_d11_bpi_res_change = hp.gnomview(d11_bpi_res_change[0], rot = [lon, lat], reso = 5, min = 500, fig = fig0.number, max = 650, title = f\"(c) ({lon}°, {lat}°)\", sub = (2, 2, 3), notext= True, cmap = plt.cm.hot, unit = r\"$\\mu K_{CMB}$\", return_projected_map = True)\n",
    "hp.graticule(lw = 0.3, color = \"white\", dpar=4, dmer = 4)\n",
    "gnomview_d12_bpi_res_change = hp.gnomview(d12_bpi_res_change[0], rot = [lon, lat], reso = 5, min = 200, fig = fig0.number, max = 300, title = f\"(d) ({lon}°, {lat}°)\", sub = (2, 2, 4), notext= True, cmap = plt.cm.hot, unit = r\"$\\mu K_{CMB}$\", return_projected_map = True)\n",
    "hp.graticule(lw = 0.3, color = \"white\", dpar=4, dmer = 4)\n",
    "plt.savefig(\"../figures/BK_smooth_30'_wo_zero_lvl.png\")"
   ]
  },
  {
   "cell_type": "markdown",
   "id": "2df9de23-4467-4980-9058-db4fa49dad7c",
   "metadata": {},
   "source": [
    "## Polarized intensity"
   ]
  },
  {
   "cell_type": "markdown",
   "id": "4e5b0270-7d9c-4b76-8d88-38e036353e83",
   "metadata": {},
   "source": [
    "### Close to the galactic plane"
   ]
  },
  {
   "cell_type": "code",
   "execution_count": null,
   "id": "45af7e01-d815-4210-9c6d-392ea6cc98ab",
   "metadata": {},
   "outputs": [],
   "source": [
    "fig0 = plt.figure(figsize = (4, 6), dpi = 300)\n",
    "\n",
    "lon = 180\n",
    "lat = -10\n",
    "hp.gnomview(np.sqrt(pr3_wo_CMB_Wiener_res_change[1]**2 + pr3_wo_CMB_Wiener_res_change[2]**2), rot = [lon, lat], reso = 5, min = 0, fig = fig0.number, max = 1.5e3, title = f\"(a) ({lon}°, {lat}°)\", sub = (2, 2, 1), notext= True, cmap = plt.cm.hot, unit = r\"$\\mu K_{CMB}$\")\n",
    "hp.graticule(lw = 0.3, color = \"white\", dpar=4, dmer = 4)\n",
    "hp.gnomview(np.sqrt(d9_bpi_res_change[1]**2 + d9_bpi_res_change[2]**2), rot = [lon, lat], reso = 5, min = 0, fig = fig0.number, max = 1.5e3, title = f\"(b) ({lon}°, {lat}°)\", sub = (2, 2, 2), notext= True, cmap = plt.cm.hot, unit = r\"$\\mu K_{CMB}$\")\n",
    "hp.graticule(lw = 0.3, color = \"white\", dpar=4, dmer = 4)\n",
    "hp.gnomview(np.sqrt(d11_bpi_res_change[1]**2 + d11_bpi_res_change[2]**2), rot = [lon, lat], reso = 5, min = 0, fig = fig0.number, max = 1.5e3, title = f\"(c) ({lon}°, {lat}°)\", sub = (2, 2, 3), notext= True, cmap = plt.cm.hot, unit = r\"$\\mu K_{CMB}$\")\n",
    "hp.graticule(lw = 0.3, color = \"white\", dpar=4, dmer = 4)\n",
    "hp.gnomview(np.sqrt(d12_bpi_res_change[1]**2 + d12_bpi_res_change[2]**2), rot = [lon, lat], reso = 5, min = 0, fig = fig0.number, max = 1.5e3, title = f\"(d) ({lon}°, {lat}°)\", sub = (2, 2, 4), notext= True, cmap = plt.cm.hot, unit = r\"$\\mu K_{CMB}$\")\n",
    "hp.graticule(lw = 0.3, color = \"white\", dpar=4, dmer = 4)\n",
    "plt.savefig(\"../figures/pol_gal_plane_smooth_30'.png\")"
   ]
  },
  {
   "cell_type": "markdown",
   "id": "31af2539-d96a-4407-97ba-c01e3d11c231",
   "metadata": {},
   "source": [
    "### Centered on the Bicep Keck patch"
   ]
  },
  {
   "cell_type": "code",
   "execution_count": null,
   "id": "d0c466ab-159d-45e1-babc-5fedf859327e",
   "metadata": {},
   "outputs": [],
   "source": [
    "fig0 = plt.figure(figsize = (4, 6), dpi = 300)\n",
    "\n",
    "lon = 318\n",
    "lat = -61\n",
    "hp.gnomview(np.sqrt(pr3_wo_CMB_Wiener_res_change[1]**2 + pr3_wo_CMB_Wiener_res_change[2]**2), rot = [lon, lat], reso = 5, min = 10, fig = fig0.number, max = 45, title = f\"(a) ({lon}°, {lat}°)\", sub = (2, 2, 1), notext= True, cmap = plt.cm.hot, unit = r\"$\\mu K_{CMB}$\")\n",
    "hp.graticule(lw = 0.3, color = \"white\", dpar=4, dmer = 4)\n",
    "hp.gnomview(np.sqrt(d9_bpi_res_change[1]**2 + d9_bpi_res_change[2]**2), rot = [lon, lat], reso = 5, min = 10, fig = fig0.number, max = 45, title = f\"(b) ({lon}°, {lat}°)\", sub = (2, 2, 2), notext= True, cmap = plt.cm.hot, unit = r\"$\\mu K_{CMB}$\")\n",
    "hp.graticule(lw = 0.3, color = \"white\", dpar=4, dmer = 4)\n",
    "hp.gnomview(np.sqrt(d11_bpi_res_change[1]**2 + d11_bpi_res_change[2]**2), rot = [lon, lat], reso = 5, min = 10, fig = fig0.number, max = 45, title = f\"(c) ({lon}°, {lat}°)\", sub = (2, 2, 3), notext= True, cmap = plt.cm.hot, unit = r\"$\\mu K_{CMB}$\")\n",
    "hp.graticule(lw = 0.3, color = \"white\", dpar=4, dmer = 4)\n",
    "hp.gnomview(np.sqrt(d12_bpi_res_change[1]**2 + d12_bpi_res_change[2]**2), rot = [lon, lat], reso = 5, min = 10, fig = fig0.number, max = 45, title = f\"(d) ({lon}°, {lat}°)\", sub = (2, 2, 4), notext= True, cmap = plt.cm.hot, unit = r\"$\\mu K_{CMB}$\")\n",
    "hp.graticule(lw = 0.3, color = \"white\", dpar=4, dmer = 4)\n",
    "plt.savefig(\"../figures/pol_BK_smooth_30'.png\")"
   ]
  },
  {
   "cell_type": "code",
   "execution_count": null,
   "id": "c27ef63b",
   "metadata": {},
   "outputs": [],
   "source": []
  }
 ],
 "metadata": {
  "language_info": {
   "codemirror_mode": {
    "name": "ipython"
   },
   "file_extension": ".py",
   "mimetype": "text/x-python",
   "name": "python",
   "nbconvert_exporter": "python"
  }
 },
 "nbformat": 4,
 "nbformat_minor": 5
}
