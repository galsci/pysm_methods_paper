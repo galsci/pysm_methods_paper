{
 "cells": [
  {
   "cell_type": "code",
   "execution_count": null,
   "id": "0",
   "metadata": {
    "tags": []
   },
   "outputs": [],
   "source": [
    "import os\n",
    "\n",
    "os.environ[\n",
    "    \"OMP_NUM_THREADS\"\n",
    "] = \"64\" \n",
    "import healpy as hp \n",
    "import astropy \n",
    "from astropy import units as u \n",
    "import numpy as np\n",
    "from pathlib import Path\n",
    "import pysm3 as pysm3\n",
    "import pysm3.units as u\n",
    "import pymaster as nmt\n",
    "import matplotlib.pyplot as plt\n",
    "from mpl_toolkits.axes_grid1 import AxesGrid\n",
    "import cmasher as cmr"
   ]
  },
  {
   "cell_type": "markdown",
   "id": "1",
   "metadata": {},
   "source": [
    "### accessing data from pysm folder at nersc "
   ]
  },
  {
   "cell_type": "code",
   "execution_count": null,
   "id": "2",
   "metadata": {
    "tags": []
   },
   "outputs": [],
   "source": [
    "\n",
    "datadir=Path('/global/cfs/cdirs/cmb/www/pysm-data/' )\n",
    "maskdir=Path('/global/cfs/cdirs/cmb/www/pysm-methods-paper/masks' )\n",
    "comp = \"IQU\" \n",
    "nside=2048 "
   ]
  },
  {
   "cell_type": "code",
   "execution_count": null,
   "id": "3",
   "metadata": {
    "tags": []
   },
   "outputs": [],
   "source": [
    "\n",
    "def run_namaster(m, mask, lmax, nlbins):\n",
    "    \"\"\"Compute C_ell with NaMaster\n",
    "    Parameters\n",
    "    ----------\n",
    "    m : numpy array\n",
    "        T only or TQU HEALPix map\n",
    "    mask : numpy array\n",
    "        mask, 1D, 0 for masked pixels,\n",
    "        needs to have same Nside of the input map\n",
    "    lmax : int\n",
    "        maximum ell of the spherical harmonics transform\n",
    "    Returns\n",
    "    -------\n",
    "    ell : numpy array\n",
    "        array of ell from 0 to lmax (length lmax+1)\n",
    "    cl_norm : numpy array\n",
    "        ell (ell+1)/2pi factor to turn C_ell into D_ell\n",
    "        first element is set to 1\n",
    "    cl : dict of numpy arrays\n",
    "        dictionary of numpy arrays with all components\n",
    "        of the spectra, for now only II, EE, BB, no\n",
    "        cross-spectra\n",
    "    \"\"\"\n",
    "    \n",
    "    nside = hp.npix2nside(len(mask))\n",
    "    #b = nmt.NmtBin.from_nside_linear(nside, 16)\n",
    "    #leff = b.get_effective_ells()\n",
    "    binning = nmt.NmtBin(nside=nside, \n",
    "            nlb=nlbins , \n",
    "            lmax=lmax, is_Dell=False)\n",
    "\n",
    "    cl = {}\n",
    "\n",
    "    \n",
    "\n",
    "    if len(m) == 3:\n",
    "        f_0 = nmt.NmtField(mask, [m[0] ])\n",
    "        f_2 = nmt.NmtField(mask, m[1:].copy(), purify_b=True)  # NaMaster masks the map in-place\n",
    "        cl_namaster = nmt.compute_full_master(f_2, f_2, binning)\n",
    "        cl[\"EE\"] = np.concatenate([[0, 0], cl_namaster[0]])\n",
    "        cl[\"BB\"] = np.concatenate([[0, 0], cl_namaster[3]])\n",
    "        cl_namaster = nmt.compute_full_master(f_0, f_2, binning)\n",
    "        cl[\"TE\"] = np.concatenate([[0, 0], cl_namaster[0]])\n",
    "    elif m.ndim == 1:\n",
    "        m = m.reshape((1, -1))\n",
    "        f_0 = nmt.NmtField(mask, [m[0] ])\n",
    "\n",
    "    cl_namaster_I = nmt.compute_full_master(f_0, f_0, binning)\n",
    "\n",
    "    cl[\"TT\"] = np.concatenate([[0, 0], cl_namaster_I[0]])\n",
    "    ell = np.concatenate([[0, 1], binning.get_effective_ells()])\n",
    "    cl_norm = ell * (ell + 1) / np.pi / 2\n",
    "    cl_norm[0] = 1\n",
    "    return ell, cl_norm, cl"
   ]
  },
  {
   "cell_type": "code",
   "execution_count": null,
   "id": "4",
   "metadata": {
    "tags": []
   },
   "outputs": [],
   "source": [
    "synch_temp = hp.read_map(datadir/\"synch/synch_template_nside2048_2023.02.25.fits\", field=None )\n",
    "dust_temp  =  hp.read_map(datadir/\"dust_gnilc/gnilc_dust_template_nside2048_2023.02.10.fits\", field=None )"
   ]
  },
  {
   "cell_type": "markdown",
   "id": "5",
   "metadata": {},
   "source": [
    "### reading maps and calling pysm models \n",
    "\n",
    "Remark : templates are in uK_RJ "
   ]
  },
  {
   "cell_type": "code",
   "execution_count": null,
   "id": "6",
   "metadata": {
    "tags": []
   },
   "outputs": [],
   "source": [
    "synch = pysm3.Sky(nside=nside, preset_strings=[\"s4\"], output_unit=u.uK_RJ).get_emission(23*u.GHz)\n",
    "dust = pysm3.Sky(nside=nside, preset_strings=[\"d9\"], output_unit=u.uK_RJ).get_emission(353*u.GHz)"
   ]
  },
  {
   "cell_type": "markdown",
   "id": "7",
   "metadata": {},
   "source": [
    "## Reading Planck HFI masks "
   ]
  },
  {
   "cell_type": "code",
   "execution_count": null,
   "id": "8",
   "metadata": {
    "tags": []
   },
   "outputs": [],
   "source": [
    "planck_mask_filename=maskdir/'HFI_Mask_GalPlane-apo2_2048_R2.00.fits' "
   ]
  },
  {
   "cell_type": "code",
   "execution_count": null,
   "id": "9",
   "metadata": {
    "tags": []
   },
   "outputs": [],
   "source": [
    "planck_masks ={ \n",
    "#                \"GAL090\": hp.ud_grade(hp.read_map(planck_mask_filename, [\"GAL090\"]),nside_out=nside),\n",
    "                \"GAL080\": hp.ud_grade(hp.read_map(planck_mask_filename, [\"GAL080\"]),nside_out=nside),\n",
    "#               \"GAL070\": hp.ud_grade(hp.read_map(planck_mask_filename, [\"GAL070\"]),nside_out=nside),\n",
    "               \"GAL040\": hp.ud_grade(hp.read_map(planck_mask_filename, [\"GAL040\"]),nside_out=nside),\n",
    "               \"GAL020\": hp.ud_grade(hp.read_map(planck_mask_filename, [\"GAL020\"]),nside_out=nside) \n",
    "              }\n"
   ]
  },
  {
   "cell_type": "markdown",
   "id": "10",
   "metadata": {},
   "source": [
    "#### Plotting TT, EE, TE, BB Synchrtron spectra for 3 different choices of Planck masks with fsky = 20%, 40%, 80% "
   ]
  },
  {
   "cell_type": "code",
   "execution_count": null,
   "id": "11",
   "metadata": {
    "tags": []
   },
   "outputs": [],
   "source": [
    "bins ={ \n",
    "                \"GAL080\": 15,\n",
    "               \"GAL040\": 25,\n",
    "               \"GAL020\": 25 \n",
    "              } \n",
    "xbins ={\"GAL080\": 1,\n",
    "               \"GAL040\": 4,\n",
    "               \"GAL020\": 6 }\n",
    "lmax=1000\n",
    "colors= cmr.ember ( np.linspace(0,1,len(planck_masks.keys())  +1 ) )  \n",
    "plt.figure(figsize=(15,10 ))\n",
    "sm = plt.cm.ScalarMappable(cmap=cmr.ember_r  ,norm=plt.Normalize (vmin=20.,vmax=90 ))\n",
    "cb =plt.colorbar(sm)\n",
    "for jj, k in enumerate([ \"GAL080\",  \"GAL040\",\"GAL020\" ])  : \n",
    "    input_ell, cl_norm, cl_in = run_namaster  (m = synch_temp ,mask = planck_masks[k] ,lmax=lmax, nlbins = bins[k]    )  \n",
    "    output_ell, cl_norm, cl_out = run_namaster  (m =synch ,mask = planck_masks[k] , lmax=lmax , nlbins = bins[k]) \n",
    "    for ii, pol in enumerate([\"TT\",\"TE\",\"EE\", \"BB\" ]):\n",
    "        plt.subplot( 2,2,ii+1 )\n",
    "        if jj == 0 :\n",
    "            plt.title(pol,fontsize=15) \n",
    "            #plt.loglog( ell2,  ell2**2 *(clo [pol]), label='Small-Scales ' ,color=colors[0] ,) \n",
    "            #plt.loglog( ell,  ell**2 *(cli [pol]),':',   label='GNILC map ',color=colors[0] ,alpha=.3)\n",
    "            plt.loglog(output_ell[xbins [k] : ],  output_ell[xbins [k] : ]**2* (cl_out [pol][xbins [k] : ]),  '-' , label='Model' ,lw=3, \n",
    "                  color=colors[jj+1]) \n",
    "                   #,label =f\"{k}\")       \n",
    "            plt.loglog(input_ell[xbins [k] : ],   input_ell[xbins [k] : ]**2*  (cl_in [pol][xbins [k] : ]),\"-\", lw=3, \n",
    "                       label='Template', color=colors[jj+1] ,alpha=.5,)\n",
    "        else : \n",
    "            plt.loglog(output_ell[xbins [k] : ],  output_ell[xbins [k] : ]**2* (cl_out [pol][xbins [k] : ]),  '-'  ,lw=3, \n",
    "                  color=colors[jj+1]) \n",
    "                   #,label =f\"{k}\")       \n",
    "            plt.loglog(input_ell[xbins [k] : ],   input_ell[xbins [k] : ]**2*  (cl_in [pol][xbins [k] : ]),\"-\", lw=3,  color=colors[jj+1] ,alpha=.5,)\n",
    "    break \n",
    "plt.subplot(221) \n",
    "plt.axvline(40,0,1e4, color='k',  \n",
    "            lw=4, linestyle='--', alpha=.4 ,label=r'$\\ell_1$' )\n",
    "plt.axvline(400,1e-12,1e-4, color='k',  \n",
    "            lw=4, linestyle=':', alpha=.4 ,label=r'$\\ell_2$ '  )\n",
    "plt.ylabel(\"$ D_\\ell  [\\mu K_{RJ}]$\",fontsize=15)\n",
    "plt.ylim(1e-0,1e4)\n",
    "plt.xlim(20,1e3)\n",
    "plt.legend(fontsize=15)\n",
    "\n",
    "plt.xticks(fontsize=15)\n",
    "plt.yticks(fontsize=15)\n",
    "\n",
    "plt.subplot(223) \n",
    "plt.axvline(40,0,1e4, color='k',  \n",
    "            lw=4, linestyle='--', alpha=.4 )\n",
    "plt.axvline(400,0,1e4, color='k',  \n",
    "            lw=4, linestyle=':', alpha=.4 ,label=r'$\\ell_2$'  )\n",
    "plt.ylim(1e-0,2e2)\n",
    "plt.ylabel(\"$ D_\\ell  [\\mu K_{RJ}]$\",fontsize=16)\n",
    "plt.xlabel((\"$\\ell$\"), fontsize=15)\n",
    "plt.xlim(20,1e3)\n",
    "plt.xticks(fontsize=15)\n",
    "plt.yticks(fontsize=15)\n",
    "\n",
    "cb.set_label(r' $f_{sky}$ [%]' ,rotation='90', fontsize=16 )\n",
    "plt.subplot(224) \n",
    "plt.axvline(40,0,1e4, color='k',  \n",
    "            lw=4, linestyle='--', alpha=.4 )\n",
    "plt.axvline(400,0,1e4, color='k',  \n",
    "            lw=4, linestyle=':', alpha=.4 ,label=r'$\\ell_2$' )\n",
    "\n",
    "plt.xlabel((\"$\\ell$\"),fontsize=16)\n",
    "plt.ylim(1e0,2e2)\n",
    "plt.xlim(20,1e3)\n",
    "sm = plt.cm.ScalarMappable(cmap=cmr.ember_r  ,norm=plt.Normalize (vmin=20.,vmax=90 ))\n",
    "cb =plt.colorbar(sm)\n",
    "cb.set_label(r'$f_{sky}$ [%]' ,rotation='90', fontsize=16 )\n",
    "\n",
    "plt.xticks(fontsize=15)\n",
    "plt.yticks(fontsize=15)\n",
    "plt.subplot(222) \n",
    "plt.axvline(40,0,1e4, color='k',  \n",
    "            lw=4, linestyle='--', alpha=.4 )\n",
    "plt.axvline(400,0,1e4, color='k',  \n",
    "            lw=4, linestyle=':', alpha=.4 ,label=r'$\\ell_2$' )\n",
    "plt.ylim(1e-1,1e3)\n",
    "plt.xlim(20,1e3)\n",
    "plt.xticks(fontsize=15)\n",
    "plt.yticks(fontsize=15)\n",
    "\n",
    "cb =plt.colorbar(sm)\n",
    "cb.set_label(r'$f_{sky}$ [%]' ,rotation='90', fontsize=16 )\n",
    "plt.tight_layout() \n",
    "#plt.savefig('../figures/synch_valspectra.pdf' )"
   ]
  },
  {
   "cell_type": "markdown",
   "id": "12",
   "metadata": {},
   "source": [
    "#### Plotting TT, EE, TE, BB Dust  spectra for 3 different choices of Planck masks with fsky = 20%, 40%, 80% "
   ]
  },
  {
   "cell_type": "code",
   "execution_count": null,
   "id": "13",
   "metadata": {
    "tags": []
   },
   "outputs": [],
   "source": [
    "bins ={ \n",
    "               \"GAL080\": 20,\n",
    "               \"GAL040\": 25,\n",
    "               \"GAL020\": 25 \n",
    "              } \n",
    "xbins ={\"GAL080\": 1,\n",
    "               \"GAL040\": 4,\n",
    "               \"GAL020\": 4}\n",
    "lmax=3000\n",
    "colors= cmr.ember( np.linspace(0,1,len(planck_masks.keys())  +1 ) )  \n",
    "fig= plt.figure(figsize=(15,10 ))\n",
    "\n",
    "grid = AxesGrid(fig, 111,\n",
    "                nrows_ncols=(2, 2),\n",
    "                axes_pad=0.05,\n",
    "                cbar_mode='single',\n",
    "                cbar_location='right',\n",
    "                cbar_pad=0.1\n",
    "                )\n",
    "\n",
    "\n",
    "for jj, k in enumerate([ \"GAL080\", \"GAL040\",\"GAL020\" ])  : \n",
    "    \n",
    "    input_ell, cl_norm, cl_in = run_namaster  (m = dust_temp  ,mask = planck_masks[k] ,lmax=lmax, nlbins = bins[k]    )    \n",
    "\n",
    "    \n",
    "    output_ell, cl_norm, cl_out = run_namaster  (m =dust ,mask = planck_masks[k] , lmax=lmax , nlbins = bins[k]) \n",
    "    for ii, pol in enumerate([\"TT\",\"TE\",\"EE\", \"BB\" ]):\n",
    "        plt.subplot( 2,2,ii+1 )\n",
    "        if jj == 0 :\n",
    "            plt.title(pol,fontsize=15) \n",
    "            plt.loglog(output_ell[xbins[k] :],  output_ell[xbins[k]:]**2* (cl_out [pol][xbins[k]:])  ,'-', \n",
    "                      color=colors[jj+1], label='Model' ) \n",
    "            plt.loglog(input_ell[xbins[k] :],   input_ell[xbins[k]:]**2*  (cl_in [pol][xbins[k]:])/1.3,\"--\", lw=3,    \n",
    "                       color=colors[jj+1] ,alpha=.2,label='Template' )\n",
    "        else:\n",
    "            plt.loglog(output_ell[xbins[k] :],  output_ell[xbins[k]:]**2* (cl_out [pol][xbins[k]:])  ,'-', \n",
    "                      color=colors[jj+1], ) \n",
    "            plt.loglog(input_ell[xbins[k] :],   input_ell[xbins[k]:]**2*  (cl_in [pol][xbins[k]:]),\"--\",  lw=3,  color=colors[jj+1] \n",
    "                       ,alpha=.3,)\n",
    "\n",
    "    \n",
    "plt.subplot(221) \n",
    "plt.xticks(fontsize=15)\n",
    "plt.yticks(fontsize=15)\n",
    "\n",
    "plt.axvline(100,0,1e7, color='k',  \n",
    "            lw=4, linestyle='--', alpha=.4 ,label=r'$\\ell_1$'  )\n",
    "plt.axvline(2000,0,1e-7, color='k',  \n",
    "            lw=4, linestyle=':', alpha=.4 ,label=r'$\\ell_2$ '  )\n",
    "plt.ylabel(\"$ D_\\ell  [\\mu K_{RJ}]$\", fontsize=16)\n",
    "plt.ylim(1e2,1e6)\n",
    "plt.xlim(20,2.5e3)\n",
    "plt.legend( fontsize=16)\n",
    "plt.subplot(223) \n",
    "plt.ylabel(\"$ D_\\ell  [\\mu K_{RJ}]$\", fontsize=16)\n",
    "plt.xlabel((\"$\\ell$\"), fontsize=16)\n",
    "plt.axvline(100,0,1e7, color='k',  \n",
    "            lw=4, linestyle='--', alpha=.4 ,label=r'$\\ell_1$'+'small scales')\n",
    "plt.axvline(2000,0,1e7, color='k',  \n",
    "            lw=4, linestyle=':', alpha=.4 ,label=r'$\\ell_2$ ' +'small scales' )\n",
    "plt.xticks(fontsize=15)\n",
    "plt.yticks(fontsize=15)\n",
    "plt.ylim(5e0,1e4)\n",
    "plt.xlim(20,2.5e3)\n",
    "sm = plt.cm.ScalarMappable(cmap=cmr.ember_r ,norm=plt.Normalize (vmin=20.,vmax=90 ))\n",
    "\n",
    "#cb.set_label(r' $f_{sky}$ [%]' ,rotation='90', fontsize=16 )\n",
    "plt.subplot(224)\n",
    "plt.axvline(100,0,1e7, color='k',  \n",
    "            lw=4, linestyle='--', alpha=.4 ,label=r'$\\ell_1$'+'small scales')\n",
    "plt.axvline(2000,0,1e7, color='k',  \n",
    "            lw=4, linestyle=':', alpha=.4 ,label=r'$\\ell_2$ ' +'small scales' )\n",
    "plt.xticks(fontsize=15)\n",
    "plt.yticks(fontsize=15)\n",
    "cb =plt.colorbar(sm)\n",
    "cb.set_label(r'$f_{sky}$ [%]' ,rotation='90', fontsize=16 )\n",
    "\n",
    "plt.xlabel((\"$\\ell$\"), fontsize=16)\n",
    "plt.ylim(5e0,1e4)\n",
    "plt.xlim(20,2.5e3)\n",
    "\n",
    "plt.subplot(222) \n",
    "plt.axvline(100,0,1e7, color='k',  \n",
    "            lw=4, linestyle='--', alpha=.4 ,label=r'$\\ell_1$'+'small scales')\n",
    "plt.axvline(2000,0,1e7, color='k',  \n",
    "            lw=4, linestyle=':', alpha=.4 ,label=r'$\\ell_2$ ' +'small scales' )\n",
    "plt.xticks(fontsize=15)\n",
    "plt.yticks(fontsize=15)\n",
    "plt.ylim(1e1,1e4)\n",
    "plt.xlim(20,2.5e3)\n",
    "\n",
    "\n",
    "\n",
    "plt.tight_layout() \n",
    "cb =fig.colorbar(sm)\n",
    "cb.set_label(r'$f_{sky}$ [%]' ,rotation='90', fontsize=16 )\n",
    "#plt.savefig('../figures-dust_valspectra.pdf' )"
   ]
  },
  {
   "cell_type": "code",
   "execution_count": null,
   "id": "14",
   "metadata": {},
   "outputs": [],
   "source": []
  }
 ],
 "metadata": {
  "kernelspec": {
   "display_name": "namaster_nb",
   "language": "python",
   "name": "namaster_nb"
  },
  "language_info": {
   "codemirror_mode": {
    "name": "ipython",
    "version": 3
   },
   "file_extension": ".py",
   "mimetype": "text/x-python",
   "name": "python",
   "nbconvert_exporter": "python",
   "pygments_lexer": "ipython3",
   "version": "3.8.0"
  }
 },
 "nbformat": 4,
 "nbformat_minor": 5
}
