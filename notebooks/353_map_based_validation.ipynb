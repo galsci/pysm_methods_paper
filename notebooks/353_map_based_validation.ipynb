{
 "cells": [
  {
   "cell_type": "code",
   "execution_count": null,
   "id": "0",
   "metadata": {
    "tags": []
   },
   "outputs": [],
   "source": [
    "import numpy as np\n",
    "import matplotlib.pyplot as plt\n",
    "import healpy as hp\n",
    "from astropy import wcs\n",
    "import pickle\n",
    "import wget\n",
    "import matplotlib.ticker as ticker\n",
    "from mpl_toolkits.axes_grid1 import make_axes_locatable"
   ]
  },
  {
   "cell_type": "code",
   "execution_count": null,
   "id": "1",
   "metadata": {
    "tags": []
   },
   "outputs": [],
   "source": [
    "def fmt(x, pos):\n",
    "    a, b = \"{:.2e}\".format(x).split(\"e\")\n",
    "    b = int(b)\n",
    "    return r\"${} \\times 10^{{{}}}$\".format(a, b)"
   ]
  },
  {
   "cell_type": "code",
   "execution_count": null,
   "id": "2",
   "metadata": {
    "tags": []
   },
   "outputs": [],
   "source": [
    "pr3_wo_CMB_Wiener = hp.read_map(\n",
    "    \"/global/cfs/cdirs/cmb/www/pysm-methods-paper/map_based_dust_validation/zero_lvl_rm_pr3_353_wo_CMB_Wiener_reso_4.94arcmin_nside_2048.fits\",\n",
    "    field=None,\n",
    ")\n",
    "d1_bpi = hp.read_map(\n",
    "    \"/global/cfs/cdirs/cmb/www/pysm-methods-paper/map_based_dust_validation/zero_lvl_rm_d1_bpi_353_reso_4.94arcmin_nside_2048.fits\",\n",
    "    field=None,\n",
    ")\n",
    "d9_bpi = hp.read_map(\n",
    "    \"/global/cfs/cdirs/cmb/www/pysm-methods-paper/map_based_dust_validation/zero_lvl_rm_d9_bpi_353_reso_4.94arcmin_nside_2048.fits\",\n",
    "    field=None,\n",
    ")\n",
    "d12_bpi = hp.read_map(\n",
    "    \"/global/cfs/cdirs/cmb/www/pysm-methods-paper/map_based_dust_validation/zero_lvl_rm_d12_bpi_353_reso_4.94arcmin_nside_2048.fits\",\n",
    "    field=None,\n",
    ")"
   ]
  },
  {
   "cell_type": "code",
   "execution_count": null,
   "id": "3",
   "metadata": {
    "tags": []
   },
   "outputs": [],
   "source": [
    "pr3_wo_CMB_Wiener_res_change = hp.read_map(\n",
    "    \"/global/cfs/cdirs/cmb/www/pysm-methods-paper/map_based_dust_validation/pr3_353_wo_CMB_Wiener_reso_30arcmin_nside_2048.fits\",\n",
    "    field=None,\n",
    ")\n",
    "d1_bpi_res_change = hp.read_map(\n",
    "    \"/global/cfs/cdirs/cmb/www/pysm-methods-paper/map_based_dust_validation/d1_bpi_353_reso_30arcmin_nside_2048.fits\",\n",
    "    field=None,\n",
    ")\n",
    "d9_bpi_res_change = hp.read_map(\n",
    "    \"/global/cfs/cdirs/cmb/www/pysm-methods-paper/map_based_dust_validation/d9_bpi_353_reso_30arcmin_nside_2048.fits\",\n",
    "    field=None,\n",
    ")\n",
    "d12_bpi_res_change = hp.read_map(\n",
    "    \"/global/cfs/cdirs/cmb/www/pysm-methods-paper/map_based_dust_validation/d12_bpi_353_reso_30arcmin_nside_2048.fits\",\n",
    "    field=None,\n",
    ")"
   ]
  },
  {
   "cell_type": "markdown",
   "id": "4",
   "metadata": {},
   "source": [
    "# 1] Create patch"
   ]
  },
  {
   "cell_type": "code",
   "execution_count": null,
   "id": "5",
   "metadata": {
    "tags": []
   },
   "outputs": [],
   "source": [
    "def patch_creation(n_pix, delta_pix, pos_long, pos_lat):\n",
    "    w = wcs.WCS(naxis=2)  # créer un objet de taille 2D\n",
    "    w.wcs.crpix = [n_pix / 2, n_pix / 2]\n",
    "    w.wcs.cdelt = np.array([-delta_pix, delta_pix])\n",
    "    w.wcs.crval = [pos_long, pos_lat]\n",
    "    w.wcs.ctype = [\"GLON-TAN\", \"GLAT-TAN\"]\n",
    "    patch = np.zeros((n_pix, n_pix))\n",
    "    return (w, patch)"
   ]
  },
  {
   "cell_type": "code",
   "execution_count": null,
   "id": "6",
   "metadata": {
    "tags": []
   },
   "outputs": [],
   "source": [
    "def fill_patch(w, patch, map_fill):\n",
    "    patch_index = np.indices(np.shape(patch))\n",
    "    lon, lat = w.wcs_pix2world(patch_index[1], patch_index[0], 0)\n",
    "    get_pix_sky = hp.ang2pix(hp.get_nside(map_fill), lon, lat, lonlat=True)\n",
    "    all_pix_values = map_fill[get_pix_sky]\n",
    "    filled_patch = np.reshape(all_pix_values, np.shape(patch))\n",
    "    return filled_patch"
   ]
  },
  {
   "cell_type": "code",
   "execution_count": null,
   "id": "7",
   "metadata": {
    "tags": []
   },
   "outputs": [],
   "source": [
    "lon = 180\n",
    "lat = -10"
   ]
  },
  {
   "cell_type": "code",
   "execution_count": null,
   "id": "8",
   "metadata": {
    "tags": []
   },
   "outputs": [],
   "source": [
    "delta_pix = 1.7 / 60\n",
    "size = float(16.7)\n",
    "n_pix = int(size / delta_pix)\n",
    "(w, patch) = patch_creation(n_pix, delta_pix, lon, lat)\n",
    "filled_patch = fill_patch(w, patch, pr3_wo_CMB_Wiener[0])"
   ]
  },
  {
   "cell_type": "code",
   "execution_count": null,
   "id": "9",
   "metadata": {
    "tags": []
   },
   "outputs": [],
   "source": [
    "def w_object(n_pix, delta_pix, pos_long, pos_lat):\n",
    "    w = wcs.WCS(naxis=2)  # créer un objet de taille 2D\n",
    "    w.wcs.crpix = [n_pix / 2, n_pix / 2]\n",
    "    w.wcs.cdelt = np.array([-delta_pix, delta_pix])\n",
    "    w.wcs.crval = [pos_long, pos_lat]\n",
    "    w.wcs.ctype = [\"GLON-TAN\", \"GLAT-TAN\"]\n",
    "    return w"
   ]
  },
  {
   "cell_type": "markdown",
   "id": "10",
   "metadata": {},
   "source": [
    "## Intensity close to the galactic plane"
   ]
  },
  {
   "cell_type": "code",
   "execution_count": null,
   "id": "11",
   "metadata": {
    "tags": []
   },
   "outputs": [],
   "source": [
    "lon = 180\n",
    "lat = -10"
   ]
  },
  {
   "cell_type": "code",
   "execution_count": null,
   "id": "12",
   "metadata": {
    "tags": []
   },
   "outputs": [],
   "source": [
    "w = w_object(n_pix, delta_pix, lon, lat)"
   ]
  },
  {
   "cell_type": "code",
   "execution_count": null,
   "id": "13",
   "metadata": {
    "tags": []
   },
   "outputs": [],
   "source": [
    "delta_pix = 1.7 / 60  # définition de la taille d'un pixel en degré\n",
    "size = float(16.7)  # en degré\n",
    "n_pix = int(size / delta_pix)\n",
    "(w, patch) = patch_creation(n_pix, delta_pix, lon, lat)\n",
    "I_pr3_wo_CMB_Wiener_gal_plane = fill_patch(w, patch, pr3_wo_CMB_Wiener[0])\n",
    "I_d1_bpi_gal_plane = fill_patch(w, patch, d1_bpi[0])\n",
    "I_d9_bpi_gal_plane = fill_patch(w, patch, d9_bpi[0])\n",
    "I_d12_bpi_gal_plane = fill_patch(w, patch, d12_bpi[0])"
   ]
  },
  {
   "cell_type": "code",
   "execution_count": null,
   "id": "14",
   "metadata": {
    "tags": []
   },
   "outputs": [],
   "source": [
    "fig = plt.figure(figsize=(9, 7), dpi=300)\n",
    "fig1 = plt.subplot(221, projection=w)\n",
    "plt.imshow(\n",
    "    I_pr3_wo_CMB_Wiener_gal_plane,\n",
    "    cmap=\"YlGnBu_r\",\n",
    "    origin=\"lower\",\n",
    "    vmin=2.16e3,\n",
    "    vmax=2.8e4,\n",
    ")\n",
    "xlon = fig1.coords[\"glon\"]\n",
    "ylat = fig1.coords[\"glat\"]\n",
    "xlon.set_axislabel(\" \")\n",
    "ylat.set_axislabel(\" \")\n",
    "plt.grid(linestyle=\"-\", linewidth=1, color=\"white\", alpha=0.2)\n",
    "plt.title(\"(a)\")\n",
    "# plt.colorbar()\n",
    "\n",
    "fig2 = plt.subplot(222, projection=w)\n",
    "plt.imshow(I_d1_bpi_gal_plane, cmap=\"YlGnBu_r\", origin=\"lower\", vmin=2.16e3, vmax=2.8e4)\n",
    "plt.xlabel(\" \")\n",
    "plt.ylabel(\" \")\n",
    "plt.grid(linestyle=\"-\", linewidth=1, color=\"white\", alpha=0.2)\n",
    "plt.title(\"(b)\")\n",
    "# plt.colorbar()\n",
    "\n",
    "fig3 = plt.subplot(223, projection=w)\n",
    "plt.imshow(I_d9_bpi_gal_plane, cmap=\"YlGnBu_r\", origin=\"lower\", vmin=2.16e3, vmax=2.8e4)\n",
    "plt.xlabel(\" \")\n",
    "plt.ylabel(\" \")\n",
    "plt.grid(linestyle=\"-\", linewidth=1, color=\"white\", alpha=0.2)\n",
    "plt.title(\"(c)\")\n",
    "# plt.colorbar()\n",
    "\n",
    "fig4 = plt.subplot(224, projection=w)\n",
    "axcolor = plt.imshow(\n",
    "    I_d12_bpi_gal_plane, cmap=\"YlGnBu_r\", origin=\"lower\", vmin=2.16e3, vmax=2.8e4\n",
    ")\n",
    "plt.xlabel(\" \")\n",
    "plt.ylabel(\" \")\n",
    "plt.grid(linestyle=\"-\", linewidth=1, color=\"white\", alpha=0.2)\n",
    "plt.title(\"(d)\")\n",
    "\n",
    "axlist = [fig1, fig2, fig3, fig4]\n",
    "plt.colorbar(\n",
    "    axcolor, ax=axlist, label=r\"$\\mu K_{CMB}$\", format=ticker.FuncFormatter(fmt)\n",
    ")\n",
    "plt.show()\n",
    "plt.savefig(\"../figures/gal_plane_non_smooth_wo_zero_lvl.png\")"
   ]
  },
  {
   "cell_type": "markdown",
   "id": "15",
   "metadata": {},
   "source": [
    "## Intensity in Bicep Keck "
   ]
  },
  {
   "cell_type": "code",
   "execution_count": null,
   "id": "16",
   "metadata": {
    "tags": []
   },
   "outputs": [],
   "source": [
    "lon = 318\n",
    "lat = -61"
   ]
  },
  {
   "cell_type": "code",
   "execution_count": null,
   "id": "17",
   "metadata": {
    "tags": []
   },
   "outputs": [],
   "source": [
    "w = w_object(n_pix, delta_pix, lon, lat)"
   ]
  },
  {
   "cell_type": "code",
   "execution_count": null,
   "id": "18",
   "metadata": {
    "tags": []
   },
   "outputs": [],
   "source": [
    "delta_pix = 1.7 / 60  # définition de la taille d'un pixel en degré\n",
    "size = float(16.7)  # en degré\n",
    "n_pix = int(size / delta_pix)\n",
    "(w, patch) = patch_creation(n_pix, delta_pix, lon, lat)\n",
    "I_pr3_wo_CMB_Wiener_gal_plane_res_change = fill_patch(\n",
    "    w, patch, pr3_wo_CMB_Wiener_res_change[0]\n",
    ")\n",
    "I_d9_bpi_gal_plane_res_change = fill_patch(w, patch, d9_bpi_res_change[0])\n",
    "I_d1_bpi_gal_plane_res_change = fill_patch(w, patch, d1_bpi_res_change[0])\n",
    "I_d12_bpi_gal_plane_res_change = fill_patch(w, patch, d12_bpi_res_change[0])"
   ]
  },
  {
   "cell_type": "markdown",
   "id": "19",
   "metadata": {},
   "source": [
    "### Determine the min and max for the colorscale"
   ]
  },
  {
   "cell_type": "code",
   "execution_count": null,
   "id": "20",
   "metadata": {
    "tags": []
   },
   "outputs": [],
   "source": [
    "print(np.percentile(I_pr3_wo_CMB_Wiener_gal_plane_res_change, 2))\n",
    "print(np.percentile(I_pr3_wo_CMB_Wiener_gal_plane_res_change, 98))\n",
    "\n",
    "print(np.percentile(I_d9_bpi_gal_plane_res_change, 2))\n",
    "print(np.percentile(I_d9_bpi_gal_plane_res_change, 98))\n",
    "\n",
    "print(np.percentile(I_d1_bpi_gal_plane_res_change, 2))\n",
    "print(np.percentile(I_d1_bpi_gal_plane_res_change, 98))\n",
    "\n",
    "print(np.percentile(I_d12_bpi_gal_plane_res_change, 2))\n",
    "print(np.percentile(I_d12_bpi_gal_plane_res_change, 98))"
   ]
  },
  {
   "cell_type": "code",
   "execution_count": null,
   "id": "21",
   "metadata": {
    "tags": []
   },
   "outputs": [],
   "source": [
    "fig = plt.figure(figsize=(9, 7), dpi=300)\n",
    "fig1 = plt.subplot(221, projection=w)\n",
    "plt.imshow(\n",
    "    I_pr3_wo_CMB_Wiener_gal_plane_res_change,\n",
    "    cmap=\"YlGnBu_r\",\n",
    "    origin=\"lower\",\n",
    "    vmin=480,\n",
    "    vmax=610,\n",
    ")\n",
    "xlon = fig1.coords[\"glon\"]\n",
    "ylat = fig1.coords[\"glat\"]\n",
    "xlon.set_axislabel(\" \")\n",
    "ylat.set_axislabel(\" \")\n",
    "plt.grid(linestyle=\"-\", linewidth=1, color=\"white\", alpha=0.2)\n",
    "plt.title(\"(a)\")\n",
    "# plt.colorbar()\n",
    "\n",
    "fig2 = plt.subplot(222, projection=w)\n",
    "plt.imshow(\n",
    "    I_d1_bpi_gal_plane_res_change, cmap=\"YlGnBu_r\", origin=\"lower\", vmin=70, vmax=180\n",
    ")\n",
    "plt.xlabel(\" \")\n",
    "plt.ylabel(\" \")\n",
    "plt.grid(linestyle=\"-\", linewidth=1, color=\"white\", alpha=0.2)\n",
    "plt.title(\"(b)\")\n",
    "# plt.colorbar()\n",
    "\n",
    "fig3 = plt.subplot(223, projection=w)\n",
    "plt.imshow(\n",
    "    I_d9_bpi_gal_plane_res_change, cmap=\"YlGnBu_r\", origin=\"lower\", vmin=475, vmax=660\n",
    ")\n",
    "plt.xlabel(\" \")\n",
    "plt.ylabel(\" \")\n",
    "plt.grid(linestyle=\"-\", linewidth=1, color=\"white\", alpha=0.2)\n",
    "plt.title(\"(c)\")\n",
    "# plt.colorbar()\n",
    "\n",
    "fig4 = plt.subplot(224, projection=w)\n",
    "axcolor = plt.imshow(\n",
    "    I_d12_bpi_gal_plane_res_change, cmap=\"YlGnBu_r\", origin=\"lower\", vmin=200, vmax=320\n",
    ")\n",
    "plt.xlabel(\" \")\n",
    "plt.ylabel(\" \")\n",
    "plt.grid(linestyle=\"-\", linewidth=1, color=\"white\", alpha=0.2)\n",
    "plt.title(\"(d)\")\n",
    "\n",
    "axlist = [fig1, fig2, fig3, fig4]\n",
    "plt.colorbar(axcolor, ax=axlist, label=r\"$\\mu K_{CMB}$\")\n",
    "plt.show()\n",
    "plt.savefig(\"../figures/BK_smooth_30'_wo_zero_lvl.png\")"
   ]
  },
  {
   "cell_type": "markdown",
   "id": "22",
   "metadata": {},
   "source": [
    "## Polarized intensity close to the galactic plane"
   ]
  },
  {
   "cell_type": "code",
   "execution_count": null,
   "id": "23",
   "metadata": {
    "tags": []
   },
   "outputs": [],
   "source": [
    "lon = 180\n",
    "lat = -10"
   ]
  },
  {
   "cell_type": "code",
   "execution_count": null,
   "id": "24",
   "metadata": {
    "tags": []
   },
   "outputs": [],
   "source": [
    "w = w_object(n_pix, delta_pix, lon, lat)"
   ]
  },
  {
   "cell_type": "code",
   "execution_count": null,
   "id": "25",
   "metadata": {
    "tags": []
   },
   "outputs": [],
   "source": [
    "delta_pix = 1.7 / 60  # définition de la taille d'un pixel en degré\n",
    "size = float(16.7)  # en degré\n",
    "n_pix = int(size / delta_pix)\n",
    "(w, patch) = patch_creation(n_pix, delta_pix, lon, lat)\n",
    "I_pol_pr3_wo_CMB_Wiener_gal_plane_res_change = fill_patch(\n",
    "    w,\n",
    "    patch,\n",
    "    np.sqrt(\n",
    "        pr3_wo_CMB_Wiener_res_change[1] ** 2 + pr3_wo_CMB_Wiener_res_change[2] ** 2\n",
    "    ),\n",
    ")\n",
    "I_pol_d9_bpi_gal_plane_res_change = fill_patch(\n",
    "    w, patch, np.sqrt(d9_bpi_res_change[1] ** 2 + d9_bpi_res_change[2] ** 2)\n",
    ")\n",
    "I_pol_d1_bpi_gal_plane_res_change = fill_patch(\n",
    "    w, patch, np.sqrt(d1_bpi_res_change[1] ** 2 + d1_bpi_res_change[2] ** 2)\n",
    ")\n",
    "I_pol_d12_bpi_gal_plane_res_change = fill_patch(\n",
    "    w, patch, np.sqrt(d12_bpi_res_change[1] ** 2 + d12_bpi_res_change[2] ** 2)\n",
    ")"
   ]
  },
  {
   "cell_type": "code",
   "execution_count": null,
   "id": "26",
   "metadata": {
    "tags": []
   },
   "outputs": [],
   "source": [
    "print(np.percentile(I_pr3_wo_CMB_Wiener_gal_plane_res_change, 2))\n",
    "print(np.percentile(I_pr3_wo_CMB_Wiener_gal_plane_res_change, 98))\n",
    "\n",
    "print(np.percentile(I_d9_bpi_gal_plane_res_change, 2))\n",
    "print(np.percentile(I_d9_bpi_gal_plane_res_change, 98))\n",
    "\n",
    "print(np.percentile(I_d1_bpi_gal_plane_res_change, 2))\n",
    "print(np.percentile(I_d1_bpi_gal_plane_res_change, 98))\n",
    "\n",
    "print(np.percentile(I_d12_bpi_gal_plane_res_change, 2))\n",
    "print(np.percentile(I_d12_bpi_gal_plane_res_change, 98))"
   ]
  },
  {
   "cell_type": "code",
   "execution_count": null,
   "id": "27",
   "metadata": {
    "tags": []
   },
   "outputs": [],
   "source": [
    "fig = plt.figure(figsize=(9, 7), dpi=300)\n",
    "fig1 = plt.subplot(221, projection=w)\n",
    "plt.imshow(\n",
    "    I_pol_pr3_wo_CMB_Wiener_gal_plane_res_change,\n",
    "    cmap=\"YlGnBu_r\",\n",
    "    origin=\"lower\",\n",
    "    vmin=0,\n",
    "    vmax=800,\n",
    ")\n",
    "xlon = fig1.coords[\"glon\"]\n",
    "ylat = fig1.coords[\"glat\"]\n",
    "xlon.set_axislabel(\" \")\n",
    "ylat.set_axislabel(\" \")\n",
    "plt.grid(linestyle=\"-\", linewidth=1, color=\"white\", alpha=0.2)\n",
    "plt.title(\"(a)\")\n",
    "# plt.colorbar()\n",
    "\n",
    "fig2 = plt.subplot(222, projection=w)\n",
    "plt.imshow(\n",
    "    I_pol_d1_bpi_gal_plane_res_change, cmap=\"YlGnBu_r\", origin=\"lower\", vmin=0, vmax=800\n",
    ")\n",
    "plt.xlabel(\" \")\n",
    "plt.ylabel(\" \")\n",
    "plt.grid(linestyle=\"-\", linewidth=1, color=\"white\", alpha=0.2)\n",
    "plt.title(\"(b)\")\n",
    "# plt.colorbar()\n",
    "\n",
    "fig3 = plt.subplot(223, projection=w)\n",
    "plt.imshow(\n",
    "    I_pol_d9_bpi_gal_plane_res_change, cmap=\"YlGnBu_r\", origin=\"lower\", vmin=0, vmax=800\n",
    ")\n",
    "plt.xlabel(\" \")\n",
    "plt.ylabel(\" \")\n",
    "plt.grid(linestyle=\"-\", linewidth=1, color=\"white\", alpha=0.2)\n",
    "plt.title(\"(c)\")\n",
    "# plt.colorbar()\n",
    "\n",
    "fig4 = plt.subplot(224, projection=w)\n",
    "axcolor = plt.imshow(\n",
    "    I_pol_d12_bpi_gal_plane_res_change,\n",
    "    cmap=\"YlGnBu_r\",\n",
    "    origin=\"lower\",\n",
    "    vmin=0,\n",
    "    vmax=800,\n",
    ")\n",
    "plt.xlabel(\" \")\n",
    "plt.ylabel(\" \")\n",
    "plt.grid(linestyle=\"-\", linewidth=1, color=\"white\", alpha=0.2)\n",
    "plt.title(\"(d)\")\n",
    "\n",
    "axlist = [fig1, fig2, fig3, fig4]\n",
    "plt.colorbar(axcolor, ax=axlist, label=r\"$\\mu K_{CMB}$\")\n",
    "plt.show()\n",
    "plt.savefig(\"../figures/pol_gal_plane_smooth_30'.png\")"
   ]
  },
  {
   "cell_type": "markdown",
   "id": "28",
   "metadata": {},
   "source": [
    "## Polarized intensity in Bicep Keck field"
   ]
  },
  {
   "cell_type": "code",
   "execution_count": null,
   "id": "29",
   "metadata": {
    "tags": []
   },
   "outputs": [],
   "source": [
    "lon = 318\n",
    "lat = -61"
   ]
  },
  {
   "cell_type": "code",
   "execution_count": null,
   "id": "30",
   "metadata": {
    "tags": []
   },
   "outputs": [],
   "source": [
    "w = w_object(n_pix, delta_pix, lon, lat)"
   ]
  },
  {
   "cell_type": "code",
   "execution_count": null,
   "id": "31",
   "metadata": {
    "tags": []
   },
   "outputs": [],
   "source": [
    "delta_pix = 1.7 / 60  # définition de la taille d'un pixel en degré\n",
    "size = float(16.7)  # en degré\n",
    "n_pix = int(size / delta_pix)\n",
    "(w, patch) = patch_creation(n_pix, delta_pix, lon, lat)\n",
    "I_pol_pr3_wo_CMB_Wiener_gal_plane_res_change = fill_patch(\n",
    "    w,\n",
    "    patch,\n",
    "    np.sqrt(\n",
    "        pr3_wo_CMB_Wiener_res_change[1] ** 2 + pr3_wo_CMB_Wiener_res_change[2] ** 2\n",
    "    ),\n",
    ")\n",
    "I_pol_d9_bpi_gal_plane_res_change = fill_patch(\n",
    "    w, patch, np.sqrt(d9_bpi_res_change[1] ** 2 + d9_bpi_res_change[2] ** 2)\n",
    ")\n",
    "I_pol_d1_bpi_gal_plane_res_change = fill_patch(\n",
    "    w, patch, np.sqrt(d1_bpi_res_change[1] ** 2 + d1_bpi_res_change[2] ** 2)\n",
    ")\n",
    "I_pol_d12_bpi_gal_plane_res_change = fill_patch(\n",
    "    w, patch, np.sqrt(d12_bpi_res_change[1] ** 2 + d12_bpi_res_change[2] ** 2)\n",
    ")"
   ]
  },
  {
   "cell_type": "code",
   "execution_count": null,
   "id": "32",
   "metadata": {
    "tags": []
   },
   "outputs": [],
   "source": [
    "fig = plt.figure(figsize=(9, 7), dpi=300)\n",
    "fig1 = plt.subplot(221, projection=w)\n",
    "plt.imshow(\n",
    "    I_pol_pr3_wo_CMB_Wiener_gal_plane_res_change,\n",
    "    cmap=\"YlGnBu_r\",\n",
    "    origin=\"lower\",\n",
    "    vmin=10,\n",
    "    vmax=45,\n",
    ")\n",
    "xlon = fig1.coords[\"glon\"]\n",
    "ylat = fig1.coords[\"glat\"]\n",
    "xlon.set_axislabel(\" \")\n",
    "ylat.set_axislabel(\" \")\n",
    "plt.grid(linestyle=\"-\", linewidth=1, color=\"white\", alpha=0.2)\n",
    "plt.title(\"(a)\")\n",
    "# plt.colorbar()\n",
    "\n",
    "fig2 = plt.subplot(222, projection=w)\n",
    "plt.imshow(\n",
    "    I_pol_d1_bpi_gal_plane_res_change, cmap=\"YlGnBu_r\", origin=\"lower\", vmin=10, vmax=45\n",
    ")\n",
    "plt.xlabel(\" \")\n",
    "plt.ylabel(\" \")\n",
    "plt.grid(linestyle=\"-\", linewidth=1, color=\"white\", alpha=0.2)\n",
    "plt.title(\"(b)\")\n",
    "# plt.colorbar()\n",
    "\n",
    "fig3 = plt.subplot(223, projection=w)\n",
    "plt.imshow(\n",
    "    I_pol_d9_bpi_gal_plane_res_change, cmap=\"YlGnBu_r\", origin=\"lower\", vmin=10, vmax=45\n",
    ")\n",
    "plt.xlabel(\" \")\n",
    "plt.ylabel(\" \")\n",
    "plt.grid(linestyle=\"-\", linewidth=1, color=\"white\", alpha=0.2)\n",
    "plt.title(\"(c)\")\n",
    "# plt.colorbar()\n",
    "\n",
    "fig4 = plt.subplot(224, projection=w)\n",
    "axcolor = plt.imshow(\n",
    "    I_pol_d12_bpi_gal_plane_res_change,\n",
    "    cmap=\"YlGnBu_r\",\n",
    "    origin=\"lower\",\n",
    "    vmin=10,\n",
    "    vmax=45,\n",
    ")\n",
    "plt.xlabel(\" \")\n",
    "plt.ylabel(\" \")\n",
    "plt.grid(linestyle=\"-\", linewidth=1, color=\"white\", alpha=0.2)\n",
    "plt.title(\"(d)\")\n",
    "\n",
    "axlist = [fig1, fig2, fig3, fig4]\n",
    "plt.colorbar(axcolor, ax=axlist, label=r\"$\\mu K_{CMB}$\")\n",
    "plt.show()\n",
    "plt.savefig(\"../figures/pol_BK_smooth_30'.png\")"
   ]
  },
  {
   "cell_type": "markdown",
   "id": "33",
   "metadata": {},
   "source": [
    "## Mask"
   ]
  },
  {
   "cell_type": "code",
   "execution_count": null,
   "id": "34",
   "metadata": {
    "tags": []
   },
   "outputs": [],
   "source": [
    "mask = hp.read_map(\"./data/mask_zero_lvl.fits\")\n",
    "pr3_wo_CMB_Wiener = hp.read_map(\n",
    "    \"/global/cfs/cdirs/cmb/www/pysm-methods-paper/map_based_dust_validation/pr3_353_wo_CMB_Wiener_reso_4.94arcmin_nside_2048.fits\",\n",
    "    field=None,\n",
    ")\n",
    "fig0 = plt.figure(figsize=(10, 4), dpi=700)\n",
    "alpha_mask = np.copy(mask)\n",
    "alpha_mask[mask == 0] = 0.3\n",
    "# hp.projview(pr3_wo_CMB_Wiener[0], rot = [0, 90], coord=[\"G\"], cmap=plt.cm.Spectral_r, alpha = alpha_mask, min = 0, max = 1500, title = \"\", unit = r\"$\\mu K_{CMB}$\", projection_type=\"polar\", graticule = True, graticule_labels = True)\n",
    "hp.orthview(\n",
    "    pr3_wo_CMB_Wiener[0],\n",
    "    rot=[0, 90],\n",
    "    coord=\"G\",\n",
    "    cmap=plt.cm.YlGnBu_r,\n",
    "    alpha=alpha_mask,\n",
    "    min=0,\n",
    "    max=1500,\n",
    "    title=\"\",\n",
    "    unit=r\"$\\mu K_{CMB}$\",\n",
    "    fig=fig0.number,\n",
    ")\n",
    "hp.graticule(ls=\"-\", lw=0.2, c=\"k\")\n",
    "plt.savefig(\"../figures/mask_intxPR3_zero_lvl.png\")"
   ]
  },
  {
   "cell_type": "code",
   "execution_count": null,
   "id": "35",
   "metadata": {},
   "outputs": [],
   "source": []
  }
 ],
 "metadata": {
  "kernelspec": {
   "display_name": "cmbenv",
   "language": "python",
   "name": "cmbenv"
  },
  "language_info": {
   "codemirror_mode": {
    "name": "ipython",
    "version": 3
   },
   "file_extension": ".py",
   "mimetype": "text/x-python",
   "name": "python",
   "nbconvert_exporter": "python",
   "pygments_lexer": "ipython3",
   "version": "3.10.13"
  }
 },
 "nbformat": 4,
 "nbformat_minor": 5
}
