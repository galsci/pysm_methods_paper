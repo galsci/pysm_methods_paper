{
 "cells": [
  {
   "cell_type": "markdown",
   "id": "b4ce8e65-c2d9-47f6-bfc3-7dd054ce1c64",
   "metadata": {},
   "source": [
    "# GNILC Dust templates for PySM 3\n",
    "> Dust templates based on Planck GNILC maps in logarithmic polarization fraction formalism (logpoltens) with injection of simulated small scale fluctuations"
   ]
  },
  {
   "cell_type": "markdown",
   "id": "584bdc8b-5a9b-42c7-a669-b6a9e41d9afb",
   "metadata": {},
   "source": [
    "This notebook implements and validates the model at Nside 2048, see the related notebooks:\n",
    "\n",
    "* [Simplified version of this notebook ran for an output Lmax of 16384, saving all the artifacts needed to create templates at higher resolution](small_scale_dust_pysm3_generate_artifacts.ipynb)\n",
    "* [Notebooks that given the artifacts generates the templates at nside 2048, 4096 and 8192](small_scale_dust_pysm3_generate_templates.ipynb)\n",
    "\n",
    "Below a summary of the updates implemented on new dust models : \n",
    "- input templates from GNILC variable resolution and unires GNILC maps\n",
    "- two pivot scales `ell1=110`,`ell2=2000` for small scale injection (see my previous posts ) \n",
    "- spectral indices for EE, BB coming from literature , [Planck 2018 XI](https://arxiv.org/pdf/1801.04945.pdf) and for TT from [Miville-Deschenes 2016](https://www.aanda.org/articles/aa/pdf/2016/09/aa28503-16.pdf)\n",
    "- we inject small scales with non-zero TE from [Planck 2018 XI](https://arxiv.org/pdf/1801.04945.pdf)\n",
    "- Inside the GAL097 mask (i.e. along the Gal. midplane) we don't inject small scales, we simply keep the ones observed at high SNR by Planck.\n",
    "- Modulation of qu maps with a single map, p:\n",
    " i. to avoid modulation w/ negative values,\n",
    " ii. to preserve non-zero TE \n",
    "- we propose to modulate small scales as it has been done in `pysm2`(https://arxiv.org/pdf/1608.02841.pdf) ,  with a couple of differences: \n",
    " i. small scales are expected to be injected with   non-gaussian content (thanks to the  logpoltens formalism); \n",
    "ii. split the sky with  high reso pixels (nside=8) ; \n",
    "iii. use amplitude of E-mode spectra to derive the modulation template"
   ]
  },
  {
   "cell_type": "code",
   "execution_count": null,
   "id": "7555d741-b206-49c4-9008-2a2c36743863",
   "metadata": {},
   "outputs": [],
   "source": [
    "from pathlib import Path\n",
    "import healpy as hp\n",
    "import matplotlib.pyplot as plt\n",
    "import numpy as np\n",
    "import pymaster as nmt\n",
    "from astropy.io import fits\n",
    "\n",
    "%matplotlib inline"
   ]
  },
  {
   "cell_type": "code",
   "execution_count": null,
   "id": "ee5f84f2-60f5-47a3-af8e-8827bd058cba",
   "metadata": {},
   "outputs": [],
   "source": [
    "import os\n",
    "\n",
    "# for jupyter.nersc.gov otherwise the notebook only uses 2 cores\n",
    "\n",
    "os.environ[\"OMP_NUM_THREADS\"] = \"64\""
   ]
  },
  {
   "cell_type": "code",
   "execution_count": null,
   "id": "1e3edd65-14fc-409f-a956-39e6539eb09a",
   "metadata": {},
   "outputs": [],
   "source": [
    "hp.disable_warnings()"
   ]
  },
  {
   "cell_type": "code",
   "execution_count": null,
   "id": "6c9e2399-20c9-44a1-8f88-1923d9cb667f",
   "metadata": {},
   "outputs": [],
   "source": [
    "plt.style.use(\"seaborn-talk\")"
   ]
  },
  {
   "cell_type": "code",
   "execution_count": null,
   "id": "e4951457-1bf6-4ac8-b6ef-8d482aaab3ab",
   "metadata": {},
   "outputs": [],
   "source": [
    "import pysm3 as pysm\n",
    "import pysm3.units as u"
   ]
  },
  {
   "cell_type": "code",
   "execution_count": null,
   "id": "98132cc2-19a9-427f-8124-739d3d8aa71b",
   "metadata": {},
   "outputs": [],
   "source": [
    "nside = 2048\n",
    "lmax = 2048"
   ]
  },
  {
   "cell_type": "code",
   "execution_count": null,
   "id": "db1b63fa-16f4-46bf-b44a-754358fb0a99",
   "metadata": {},
   "outputs": [],
   "source": [
    "comp = \"IQU\""
   ]
  },
  {
   "cell_type": "code",
   "execution_count": null,
   "id": "434c1817-3ad9-46d6-a2c1-b8f989f9bbe9",
   "metadata": {},
   "outputs": [],
   "source": [
    "components = list(enumerate(comp))\n",
    "components"
   ]
  },
  {
   "cell_type": "code",
   "execution_count": null,
   "id": "ef0893e2-d7a1-428d-84a6-14a64828fe32",
   "metadata": {},
   "outputs": [],
   "source": [
    "spectra_components = [\"TT\", \"EE\", \"BB\", \"TE\"]"
   ]
  },
  {
   "cell_type": "markdown",
   "id": "3bcc4f05-9417-440f-8282-ec2e5fb1d78b",
   "metadata": {},
   "source": [
    "change this to True   if you want to  run namaster on notebook \n"
   ]
  },
  {
   "cell_type": "code",
   "execution_count": null,
   "id": "99a8d4a6-1510-4a3a-a529-ad35f765a92b",
   "metadata": {},
   "outputs": [],
   "source": [
    "namaster_on_nb = True"
   ]
  },
  {
   "cell_type": "code",
   "execution_count": null,
   "id": "59f1f34a-4b01-4af9-8af8-5fa7e859d310",
   "metadata": {},
   "outputs": [],
   "source": [
    "datadir = Path(\"data\")"
   ]
  },
  {
   "cell_type": "markdown",
   "id": "b867c899-b5b1-4de6-8cbe-70915efad4b8",
   "metadata": {},
   "source": [
    "# Setting the inputs \n",
    "## Dust maps \n",
    "- We use the  2015 GNILC intensity map from the 2nd planck release, as it encodes less contamination from CIB with 21.8' resolution https://portal.nersc.gov/project/cmb/pysm-data/dust_gnilc/inputs/COM_CompMap_Dust-GNILC-F353_2048_21p8acm.fits\n",
    "\n",
    "- for Q and U we adopt maps from the 3rd Planck release as they were optimized for polarization studies with 80' reso.  \n",
    "\n"
   ]
  },
  {
   "cell_type": "code",
   "execution_count": null,
   "id": "87e5c4fb-a1d9-4a09-a20a-6e313e6a3c33",
   "metadata": {},
   "outputs": [],
   "source": [
    "gnilc_template = \"varres\"\n",
    "dust_varresI = datadir / \"COM_CompMap_Dust-GNILC-F353_2048_21p8acm.fits\"\n",
    "dust_varresP = (\n",
    "    datadir / f\"COM_CompMap_IQU-thermaldust-gnilc-{gnilc_template}_2048_R3.00.fits\"\n",
    ")"
   ]
  },
  {
   "cell_type": "code",
   "execution_count": null,
   "id": "cea40634-9f68-4da9-bad1-4457b53e46a4",
   "metadata": {},
   "outputs": [],
   "source": [
    "if not dust_varresI.exists():\n",
    "    !wget -O $dust_varresI https://portal.nersc.gov/project/cmb/pysm-data/dust_gnilc/inputs/COM_CompMap_Dust-GNILC-F353_2048_21p8acm.fits"
   ]
  },
  {
   "cell_type": "code",
   "execution_count": null,
   "id": "134293d5-11d9-4b70-897d-22887590f4a8",
   "metadata": {},
   "outputs": [],
   "source": [
    "if not dust_varresP.exists():\n",
    "    !wget -O $dust_varresP https://irsa.ipac.caltech.edu/data/Planck/release_3/all-sky-maps/maps/component-maps/foregrounds/COM_CompMap_IQU-thermaldust-gnilc-varres_2048_R3.00.fits"
   ]
  },
  {
   "cell_type": "markdown",
   "id": "8e5a113c-4355-498e-a3e6-dfb167d2f2b2",
   "metadata": {},
   "source": [
    "Transform maps to double precision for computations"
   ]
  },
  {
   "cell_type": "code",
   "execution_count": null,
   "id": "0b43a229-b37a-466a-a325-607505b3c0d9",
   "metadata": {},
   "outputs": [],
   "source": [
    "m_planck_varres, h = hp.read_map(\n",
    "    dust_varresP, [c + \"_STOKES\" for c in comp], dtype=np.float64, h=True\n",
    ")\n",
    "I_planck_varres, h = hp.read_map(dust_varresI, dtype=np.float64, h=True)"
   ]
  },
  {
   "cell_type": "markdown",
   "id": "eba0d85c-3eda-448d-8c00-31bcb4b4ec6a",
   "metadata": {},
   "source": [
    "Maps from the two releases are in different units `MJy/sr` the former, and `K_CMB` the latter, we therefore need to perform some conversion to `uK_RJ`. "
   ]
  },
  {
   "cell_type": "code",
   "execution_count": null,
   "id": "fc284506-9442-4246-b002-f58498141163",
   "metadata": {},
   "outputs": [],
   "source": [
    "m_planck_varres <<= u.K_CMB\n",
    "I_planck_varres <<= u.MJy / u.sr\n",
    "m_planck_varres = m_planck_varres.to(\n",
    "    \"uK_RJ\", equivalencies=u.cmb_equivalencies(353 * u.GHz)\n",
    ")\n",
    "I_planck_varres = I_planck_varres.to(\n",
    "    \"uK_RJ\", equivalencies=u.cmb_equivalencies(353 * u.GHz)\n",
    ")"
   ]
  },
  {
   "cell_type": "markdown",
   "id": "6dc76669-d9dd-4df8-a7f6-14161c4e6112",
   "metadata": {},
   "source": [
    "then we are ready to combine both maps into one single TQU map. "
   ]
  },
  {
   "cell_type": "code",
   "execution_count": null,
   "id": "c57e1d34-ecaa-4a37-b8ca-007567a96b4f",
   "metadata": {},
   "outputs": [],
   "source": [
    "m_planck_varres[0] = I_planck_varres\n",
    "del I_planck_varres"
   ]
  },
  {
   "cell_type": "markdown",
   "id": "1744a6ed-10ff-4452-9424-ab3c3185208e",
   "metadata": {},
   "source": [
    "### GAL080 Planck  mask \n",
    "\n",
    "we perform the monopole removal in a region outside  the Galactic plane.  \n"
   ]
  },
  {
   "cell_type": "code",
   "execution_count": null,
   "id": "77e338b7-ffaa-4705-a2b7-503e80c98556",
   "metadata": {},
   "outputs": [],
   "source": [
    "planck_mask_filename = datadir / \"HFI_Mask_GalPlane-apo2_2048_R2.00.fits\"\n",
    "\n",
    "if not planck_mask_filename.exists():\n",
    "    !wget -O $planck_mask_filename \"https://irsa.ipac.caltech.edu/data/Planck/release_2/ancillary-data/masks/HFI_Mask_GalPlane-apo2_2048_R2.00.fits\""
   ]
  },
  {
   "cell_type": "code",
   "execution_count": null,
   "id": "507c5fed-62e7-4c1f-87e0-e17b4d88703d",
   "metadata": {},
   "outputs": [],
   "source": [
    "planck_mask = hp.read_map(planck_mask_filename, [\"GAL080\"])\n",
    "\n",
    "planck_mask = np.int_(np.ma.masked_not_equal(planck_mask, 0.0).mask)\n",
    "fsky = planck_mask.sum() / planck_mask.size\n",
    "print(f\"masking {fsky} of the sky\")\n",
    "hp.mollview(planck_mask, title=f\"Planck common galactic mask, {comp}\")"
   ]
  },
  {
   "cell_type": "markdown",
   "id": "b9edd1b6-7c21-4bcf-b8b0-b786251a0e4e",
   "metadata": {},
   "source": [
    "#### Monopole subtraction \n",
    "\n",
    "\n",
    "Section 2.2 of [Planck 2018 XII](https://arxiv.org/pdf/1807.06212.pdf) value reported:  0.13 MJy/sr \n",
    "\n",
    "we subtract this term only to the I map for   the pixels outside  the Galactic plane mask."
   ]
  },
  {
   "cell_type": "code",
   "execution_count": null,
   "id": "3304ebb8-9cc2-47f0-9845-8b8b500fa906",
   "metadata": {},
   "outputs": [],
   "source": [
    "planck2018_monopole = (0.13 * u.MJy / u.sr).to(\n",
    "    u.uK_RJ, equivalencies=u.cmb_equivalencies(353 * u.GHz)\n",
    ")\n",
    "\n",
    "m_planck_varres[0][planck_mask] -= planck2018_monopole"
   ]
  },
  {
   "cell_type": "markdown",
   "id": "0826905e-347a-4f15-a519-3546ebc68aa0",
   "metadata": {},
   "source": [
    "\n",
    "We estimate how many pixels have I< P after we subtract the monopole "
   ]
  },
  {
   "cell_type": "code",
   "execution_count": null,
   "id": "b7bfaaa8-9e97-425f-88c7-7ecdf0cd409a",
   "metadata": {},
   "outputs": [],
   "source": [
    "maskmono = m_planck_varres[0] ** 2 < m_planck_varres[1] ** 2 + m_planck_varres[2] ** 2\n",
    "print(\n",
    "    f\"{maskmono.sum() } pixels out of { maskmono.size} expected to be NaNs in Log Pol Tens maps \"\n",
    ")"
   ]
  },
  {
   "cell_type": "code",
   "execution_count": null,
   "id": "65f72092-d770-4d2a-8936-3563f8d33e37",
   "metadata": {},
   "outputs": [],
   "source": [
    "plt.figure(figsize=(20, 5))\n",
    "for i_pol, pol in components:\n",
    "    hp.mollview(\n",
    "        m_planck_varres[i_pol],\n",
    "        # title=\"Planck-GNILC 2058/2018 dust \" + pol,\n",
    "        title=\"\",\n",
    "        sub=131 + i_pol,\n",
    "        unit=m_planck_varres.unit,\n",
    "        cbar=False,\n",
    "        min=-300,\n",
    "        max=300,\n",
    "    )"
   ]
  },
  {
   "cell_type": "code",
   "execution_count": null,
   "id": "43d2e601",
   "metadata": {},
   "outputs": [],
   "source": [
    "final_templates = hp.read_map(\n",
    "    \"/global/cfs/cdirs/cmb/www/pysm-data/dust_gnilc/gnilc_dust_template_nside2048_2023.02.10.fits\",\n",
    "    (0, 1, 2),\n",
    ")"
   ]
  },
  {
   "cell_type": "code",
   "execution_count": null,
   "id": "56bace87",
   "metadata": {},
   "outputs": [],
   "source": [
    "plt.figure(figsize=(20, 5))\n",
    "for i_pol, pol in components:\n",
    "    hp.mollview(\n",
    "        final_templates[i_pol],\n",
    "        # title=\"Planck-GNILC 2058/2018 dust \" + pol,\n",
    "        title=\"\",\n",
    "        sub=131 + i_pol,\n",
    "        unit=m_planck_varres.unit,\n",
    "        cbar=False,\n",
    "        min=-300,\n",
    "        max=300,\n",
    "    )"
   ]
  },
  {
   "cell_type": "markdown",
   "id": "92c1c642-acd1-418c-a298-187d622dfd41",
   "metadata": {},
   "source": [
    "## Transform maps to Poltens quantities "
   ]
  },
  {
   "cell_type": "code",
   "execution_count": null,
   "id": "47660711-55f8-49d8-91dc-5610ae21a036",
   "metadata": {},
   "outputs": [],
   "source": [
    "def map_to_log_pol_tens(m):\n",
    "    P = np.sqrt(m[1] ** 2 + m[2] ** 2)\n",
    "    log_pol_tens = np.empty_like(m)\n",
    "    log_pol_tens[0] = np.log(m[0] ** 2 - P**2) / 2.0\n",
    "    log_pol_tens[1:] = m[1:] / P * np.log((m[0] + P) / (m[0] - P)) / 2.0\n",
    "    return log_pol_tens\n",
    "\n",
    "\n",
    "def log_pol_tens_to_map(log_pol_tens):\n",
    "    P = np.sqrt(log_pol_tens[1] ** 2 + log_pol_tens[2] ** 2)\n",
    "    m = np.empty_like(log_pol_tens)\n",
    "    exp_i = np.exp(log_pol_tens[0])\n",
    "    m[0] = exp_i * np.cosh(P)\n",
    "    m[1:] = log_pol_tens[1:] / P * exp_i * np.sinh(P)\n",
    "    return m\n",
    "\n",
    "\n",
    "def sigmoid(x, x0, width, power=4):\n",
    "    \"\"\"Sigmoid function given start point and width\n",
    "    Parameters\n",
    "    ----------\n",
    "    x : array\n",
    "        input x axis\n",
    "    x0 : float\n",
    "        value of x where the sigmoid starts (not the center)\n",
    "    width : float\n",
    "        width of the transition region in unit of x\n",
    "    power : float\n",
    "        tweak the steepness of the curve\n",
    "    Returns\n",
    "    -------\n",
    "    sigmoid : array\n",
    "        sigmoid, same length of x\"\"\"\n",
    "    return 1.0 / (1 + np.exp(-power * (x - x0 - width / 2) / width))"
   ]
  },
  {
   "cell_type": "code",
   "execution_count": null,
   "id": "a4798c7a-1ec9-430c-a499-b28e9d55e696",
   "metadata": {},
   "outputs": [],
   "source": [
    "log_pol_tens_varres = map_to_log_pol_tens(m_planck_varres.value)"
   ]
  },
  {
   "cell_type": "markdown",
   "id": "c9bc4c4a-82da-4a2d-8170-f03249a7285c",
   "metadata": {},
   "source": [
    "Checking NaNs  on the Poltens map "
   ]
  },
  {
   "cell_type": "code",
   "execution_count": null,
   "id": "7450ec3f-92d8-4d9e-9bbc-674e524b40a9",
   "metadata": {},
   "outputs": [],
   "source": [
    "print(\n",
    "    f\"{np.isnan(log_pol_tens_varres[0]).sum()  } pixels out of { maskmono.size} are NaNs in Log Pol Tens maps \"\n",
    ")"
   ]
  },
  {
   "cell_type": "code",
   "execution_count": null,
   "id": "4c509cdf-b7cd-47a1-8814-c3ae2560276b",
   "metadata": {},
   "outputs": [],
   "source": [
    "for i in range(3):\n",
    "    log_pol_tens_varres[i, np.isnan(log_pol_tens_varres[i])] = np.nanmedian(\n",
    "        log_pol_tens_varres[i]\n",
    "    )"
   ]
  },
  {
   "cell_type": "markdown",
   "id": "5a53f9f2-ddab-440c-a68f-417bd2ddede5",
   "metadata": {},
   "source": [
    "Set all the NaNs to the map median value  \n"
   ]
  },
  {
   "cell_type": "code",
   "execution_count": null,
   "id": "adaf518b-4b05-4ddf-87f8-368da9def8fc",
   "metadata": {},
   "outputs": [],
   "source": [
    "assert np.isnan(log_pol_tens_varres).sum() == 0"
   ]
  },
  {
   "cell_type": "code",
   "execution_count": null,
   "id": "b1e6b7b8-1c8a-4b00-adf1-9811b352dd49",
   "metadata": {},
   "outputs": [],
   "source": [
    "plt.figure(figsize=(20, 5))\n",
    "r = {0: (3, 10), 1: (-0.2, 0.2)}\n",
    "r[2] = r[1]\n",
    "for i_pol, pol in components:\n",
    "    hp.mollview(\n",
    "        log_pol_tens_varres[i_pol],\n",
    "        # title=\"Planck-GNILC 2058/2018 dust \" + pol,\n",
    "        title=\"\",\n",
    "        sub=131 + i_pol,\n",
    "        min=r[i_pol][0],\n",
    "        max=r[i_pol][1],\n",
    "        cbar=False,\n",
    "    )"
   ]
  },
  {
   "cell_type": "code",
   "execution_count": null,
   "id": "f4f86cfb-d85d-43fe-8bf2-f4945650b128",
   "metadata": {},
   "outputs": [],
   "source": [
    "from scipy.optimize import curve_fit"
   ]
  },
  {
   "cell_type": "code",
   "execution_count": null,
   "id": "7c341313-4f5f-4611-bb79-8ea6779e4672",
   "metadata": {},
   "outputs": [],
   "source": [
    "def model(ell, A, gamma):\n",
    "    out = A * ell**gamma\n",
    "    return out"
   ]
  },
  {
   "cell_type": "code",
   "execution_count": null,
   "id": "8ad6a315-1cf1-4456-819c-34c6fab76529",
   "metadata": {},
   "outputs": [],
   "source": [
    "def run_anafast(m, lmax):\n",
    "    clanaf = hp.anafast(m, lmax=lmax)\n",
    "    cl = {}\n",
    "    cl[\"TT\"] = clanaf[0]\n",
    "    cl[\"EE\"] = clanaf[1]\n",
    "    cl[\"BB\"] = clanaf[2]\n",
    "    cl[\"TE\"] = clanaf[3]\n",
    "    ell = np.arange(lmax + 1)\n",
    "\n",
    "    cl_norm = ell * (ell + 1) / np.pi / 2\n",
    "    cl_norm[0] = 1\n",
    "    return ell, cl_norm, cl"
   ]
  },
  {
   "cell_type": "code",
   "execution_count": null,
   "id": "572bfc2d-fb81-4d3c-9b1c-d50d2e07d541",
   "metadata": {},
   "outputs": [],
   "source": [
    "print(\"run anafast on full  sky  \")\n",
    "ell, cl_norm, cl = run_anafast(log_pol_tens_varres, lmax)"
   ]
  },
  {
   "cell_type": "markdown",
   "id": "9a98b166-58b2-45d2-ba9e-61f774ec67f9",
   "metadata": {},
   "source": [
    "# (New) employing spectral indices from literature \n",
    "\n",
    "- https://arxiv.org/pdf/1801.04945.pdf and https://www.aanda.org/articles/aa/pdf/2016/09/aa28503-16.pdf\n",
    "- 2 pivotal scales `ell1=110` and `ell2=800 ` \n",
    "- non zero TE  spectrum \n",
    "\n"
   ]
  },
  {
   "cell_type": "code",
   "execution_count": null,
   "id": "b72443b3-b614-40b2-bcaf-ba98d2266d31",
   "metadata": {},
   "outputs": [],
   "source": [
    "ell_fit_low = {\"TT\": 50, \"EE\": 50, \"BB\": 50, \"TE\": 50}\n",
    "ell_fit_high = {\"TT\": 100, \"EE\": 100, \"BB\": 100, \"TE\": 100}\n",
    "gamma_fit2 = {\"TT\": -0.8, \"EE\": -0.42, \"BB\": -0.54, \"TE\": -0.50}\n",
    "A_fit, gamma_fit, A_fit_std, gamma_fit_std = {}, {}, {}, {}\n",
    "plt.figure(figsize=(25, 5))\n",
    "A_fit2 = {}\n",
    "smallscales = []\n",
    "\n",
    "ell_pivot = 2000\n",
    "for ii, pol in enumerate(spectra_components):\n",
    "    plt.subplot(141 + ii)\n",
    "    xdata = np.arange(ell_fit_low[pol], ell_fit_high[pol])\n",
    "    ydata = xdata * (xdata + 1) / np.pi / 2 * cl[pol][xdata]\n",
    "    (A_fit[pol], gamma_fit[pol]), cov = curve_fit(model, xdata, ydata)\n",
    "    A_fit2[pol] = np.fabs(A_fit[pol]) * ell_fit_high[pol] ** (\n",
    "        gamma_fit[pol] - gamma_fit2[pol]\n",
    "    )\n",
    "    plt.loglog(ell, ell * (ell + 1) / np.pi / 2 * cl[pol])\n",
    "    scaling = model(ell[:ell_pivot], A_fit2[pol], gamma_fit2[pol])\n",
    "    scaling[:2] = 0\n",
    "    plt.plot(ell[:ell_pivot], scaling, label=r\"$\\alpha$\" + f\"[{pol}]:{gamma_fit2[pol]}\")\n",
    "    smallscales.append(scaling)\n",
    "\n",
    "    plt.axvline(ell_fit_high[pol], linestyle=\"--\", color=\"gray\")\n",
    "    plt.axvline(ell_pivot, linestyle=\"--\", color=\"k\")\n",
    "    plt.grid()\n",
    "    plt.title(f\"{pol}   spectrum for dust Dust Pol.Tens  \")\n",
    "\n",
    "    plt.xlabel((\"$\\ell$\"))\n",
    "    plt.xlim(2, lmax)\n",
    "    plt.legend(fontsize=15)\n",
    "\n",
    "for ii, pol in enumerate(spectra_components):\n",
    "    # we change the EE and BB power laws\n",
    "    xdata = np.arange(ell_fit_high[pol], ell.size)\n",
    "    ydata = xdata * (xdata + 1) / np.pi / 2 * cl[pol][xdata]\n",
    "    (A_fit[pol], gamma_fit[pol]), cov = curve_fit(model, xdata, ydata)\n",
    "\n",
    "    plt.subplot(141 + ii)\n",
    "    if pol == \"TE\":\n",
    "        A_fit2[pol] = A_fit2[pol] * ell_pivot ** (gamma_fit2[pol] - gamma_fit2[\"TE\"])\n",
    "        scaling = model(ell[ell_pivot:], A_fit2[pol], gamma_fit2[\"TE\"])\n",
    "\n",
    "        plt.plot(\n",
    "            ell[ell_pivot:],\n",
    "            scaling,\n",
    "            linewidth=3,\n",
    "            alpha=0.4,\n",
    "            color=\"k\",\n",
    "        )\n",
    "        smallscales[ii] = np.concatenate([smallscales[ii], scaling])\n",
    "    else:\n",
    "        A_fit2[pol] = A_fit2[pol] * ell_pivot ** (gamma_fit2[pol] - gamma_fit2[\"TT\"])\n",
    "        scaling = model(ell[ell_pivot:], A_fit2[pol], gamma_fit2[\"TT\"])\n",
    "\n",
    "        plt.plot(\n",
    "            ell[ell_pivot:],\n",
    "            scaling,\n",
    "            linewidth=3,\n",
    "            alpha=0.4,\n",
    "            color=\"k\",\n",
    "        )\n",
    "        smallscales[ii] = np.concatenate([smallscales[ii], scaling])\n",
    "\n",
    "plt.subplot(141)\n",
    "\n",
    "plt.ylabel(\"$\\ell(\\ell+1)C_\\ell/2\\pi [\\mu K_{RJ}]$\")\n",
    "plt.ylim(1e-5, 1e0)\n",
    "plt.subplot(142)\n",
    "plt.ylim(1e-7, 1e-3)\n",
    "plt.subplot(143)\n",
    "plt.ylim(1e-7, 1e-3)\n",
    "plt.subplot(143)\n",
    "plt.ylim(1e-7, 1e-1)"
   ]
  }
 ],
 "metadata": {
  "@webio": {
   "lastCommId": null,
   "lastKernelId": null
  },
  "language_info": {
   "codemirror_mode": {
    "name": "ipython"
   },
   "file_extension": ".py",
   "mimetype": "text/x-python",
   "name": "python",
   "nbconvert_exporter": "python"
  }
 },
 "nbformat": 4,
 "nbformat_minor": 5
}
