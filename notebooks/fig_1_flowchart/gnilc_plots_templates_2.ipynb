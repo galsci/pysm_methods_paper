{
 "cells": [
  {
   "cell_type": "code",
   "execution_count": null,
   "metadata": {},
   "outputs": [],
   "source": [
    "import numpy as np\n",
    "import healpy as hp\n",
    "from pathlib import Path"
   ]
  },
  {
   "cell_type": "code",
   "execution_count": null,
   "metadata": {},
   "outputs": [],
   "source": [
    "output_dir = Path(\"/global/cfs/cdirs/cmb/www/pysm-data\") / \"dust_gnilc\""
   ]
  },
  {
   "cell_type": "code",
   "execution_count": null,
   "metadata": {},
   "outputs": [],
   "source": [
    "datadir = output_dir / \"raw\""
   ]
  },
  {
   "cell_type": "code",
   "execution_count": null,
   "metadata": {},
   "outputs": [],
   "source": [
    "output_nside = 2048"
   ]
  },
  {
   "cell_type": "code",
   "execution_count": null,
   "metadata": {},
   "outputs": [],
   "source": [
    "output_lmax = int(min(2.5 * output_nside, 8192 * 2))"
   ]
  },
  {
   "cell_type": "markdown",
   "metadata": {},
   "source": [
    "## Large scales"
   ]
  },
  {
   "cell_type": "code",
   "execution_count": null,
   "metadata": {},
   "outputs": [],
   "source": [
    "alm_log_pol_tens_large_scale = hp.read_alm(\n",
    "    datadir\n",
    "    / \"gnilc_dust_largescale_template_logpoltens_alm_nside2048_lmax1024_complex64.fits.gz\",\n",
    "    hdu=(1, 2, 3),\n",
    ")"
   ]
  },
  {
   "cell_type": "code",
   "execution_count": null,
   "metadata": {},
   "outputs": [],
   "source": [
    "map_log_pol_tens_large_scale = hp.alm2map(\n",
    "    alm_log_pol_tens_large_scale.astype(np.complex128), nside=output_nside\n",
    ")"
   ]
  },
  {
   "cell_type": "code",
   "execution_count": null,
   "metadata": {},
   "outputs": [],
   "source": [
    "map_log_pol_tens_large_scale"
   ]
  },
  {
   "cell_type": "markdown",
   "metadata": {},
   "source": [
    "## Small scales modulation"
   ]
  },
  {
   "cell_type": "code",
   "execution_count": null,
   "metadata": {},
   "outputs": [],
   "source": [
    "modulate_alm = {\n",
    "    k: hp.read_alm(datadir / f\"gnilc_dust_{k}_modulation_alms_lmax768.fits.gz\").astype(\n",
    "        np.complex128\n",
    "    )\n",
    "    for k in [\"temperature\", \"polarization\"]\n",
    "}"
   ]
  },
  {
   "cell_type": "code",
   "execution_count": null,
   "metadata": {},
   "outputs": [],
   "source": [
    "mod_i = hp.alm2map(modulate_alm[\"temperature\"], output_nside)\n",
    "mod_p = hp.alm2map(modulate_alm[\"polarization\"], output_nside)"
   ]
  },
  {
   "cell_type": "code",
   "execution_count": null,
   "metadata": {},
   "outputs": [],
   "source": [
    "import matplotlib.pyplot as plt"
   ]
  },
  {
   "cell_type": "code",
   "execution_count": null,
   "metadata": {},
   "outputs": [],
   "source": [
    "plt.figure(figsize=(20, 5))\n",
    "r = {0: (3, 10), 1: (-0.2, 0.2)}\n",
    "for i_m, m in enumerate([mod_i, mod_p]):\n",
    "    hp.mollview(\n",
    "        m,\n",
    "        # title=\"Planck-GNILC 2058/2018 dust \" + pol,\n",
    "        title=\"\",\n",
    "        sub=121 + i_m,\n",
    "        min=0,\n",
    "        max=3,\n",
    "        # cbar=False\n",
    "    )"
   ]
  },
  {
   "cell_type": "markdown",
   "metadata": {},
   "source": [
    "## Small scales"
   ]
  },
  {
   "cell_type": "code",
   "execution_count": null,
   "metadata": {},
   "outputs": [],
   "source": [
    "cl_small_scale = hp.read_cl(\n",
    "    datadir / \"gnilc_dust_small_scales_logpoltens_cl_lmax16384.fits.gz\"\n",
    ")"
   ]
  },
  {
   "cell_type": "code",
   "execution_count": null,
   "metadata": {},
   "outputs": [],
   "source": [
    "synalm_lmax = 8192 * 2  # it needs to be the same for all output nside\n",
    "# synalm_lmax = 1024\n",
    "np.random.seed(8192)\n",
    "\n",
    "alm_log_pol_tens_small_scale = hp.synalm(\n",
    "    list(cl_small_scale),\n",
    "    lmax=synalm_lmax,\n",
    "    new=True,\n",
    ")"
   ]
  },
  {
   "cell_type": "code",
   "execution_count": null,
   "metadata": {},
   "outputs": [],
   "source": [
    "alm_log_pol_tens_small_scale = [\n",
    "    hp.almxfl(each, np.ones(output_lmax)) for each in alm_log_pol_tens_small_scale\n",
    "]\n",
    "map_log_pol_tens_small_scale = hp.alm2map(\n",
    "    alm_log_pol_tens_small_scale, nside=output_nside\n",
    ")"
   ]
  },
  {
   "cell_type": "code",
   "execution_count": null,
   "metadata": {},
   "outputs": [],
   "source": [
    "map_log_pol_tens_small_scale[0] *= hp.alm2map(modulate_alm[\"temperature\"], output_nside)\n",
    "map_log_pol_tens_small_scale[1:] *= hp.alm2map(\n",
    "    modulate_alm[\"polarization\"], output_nside\n",
    ")\n",
    "assert np.isnan(map_log_pol_tens_small_scale).sum() == 0"
   ]
  },
  {
   "cell_type": "code",
   "execution_count": null,
   "metadata": {},
   "outputs": [],
   "source": [
    "plt.figure(figsize=(20, 5))\n",
    "for i_pol in range(3):\n",
    "    r = 1.3 if i_pol == 0 else 0.1\n",
    "    hp.mollview(\n",
    "        map_log_pol_tens_small_scale[i_pol],\n",
    "        # title=\"Planck-GNILC 2058/2018 dust \" + pol,\n",
    "        title=\"\",\n",
    "        sub=131 + i_pol,\n",
    "        cbar=False,\n",
    "        min=-r,\n",
    "        max=r,\n",
    "    )"
   ]
  },
  {
   "cell_type": "code",
   "execution_count": null,
   "metadata": {},
   "outputs": [],
   "source": [
    "from pysm3.utils import log_pol_tens_to_map"
   ]
  },
  {
   "cell_type": "code",
   "execution_count": null,
   "metadata": {},
   "outputs": [],
   "source": [
    "hp.gnomview(map_log_pol_tens_large_scale[0], xsize=1000, rot=80, title=\"\")"
   ]
  },
  {
   "cell_type": "code",
   "execution_count": null,
   "metadata": {},
   "outputs": [],
   "source": []
  }
 ],
 "metadata": {
  "@webio": {
   "lastCommId": null,
   "lastKernelId": null
  },
  "language_info": {
   "codemirror_mode": {
    "name": "ipython"
   },
   "file_extension": ".py",
   "mimetype": "text/x-python",
   "name": "python",
   "nbconvert_exporter": "python"
  }
 },
 "nbformat": 4,
 "nbformat_minor": 4
}
