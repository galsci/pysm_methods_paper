{
 "cells": [
  {
   "cell_type": "code",
   "execution_count": null,
   "id": "815c1aee",
   "metadata": {
    "papermill": {
     "duration": 0.239907,
     "end_time": "2023-02-13T04:22:37.550932",
     "exception": false,
     "start_time": "2023-02-13T04:22:37.311025",
     "status": "completed"
    }
   },
   "outputs": [],
   "source": [
    "import os\n",
    "\n",
    "os.environ[\n",
    "    \"OMP_NUM_THREADS\"\n",
    "] = \"64\"  # for jupyter.nersc.gov otherwise the notebook only uses 2 cores"
   ]
  },
  {
   "cell_type": "code",
   "execution_count": null,
   "id": "bf398055",
   "metadata": {
    "papermill": {
     "duration": 14.08918,
     "end_time": "2023-02-13T04:22:51.824441",
     "exception": false,
     "start_time": "2023-02-13T04:22:37.735261",
     "status": "completed"
    }
   },
   "outputs": [],
   "source": [
    "from pathlib import Path\n",
    "import healpy as hp\n",
    "import matplotlib.pyplot as plt\n",
    "import numpy as np\n",
    "import pymaster as nmt\n",
    "from astropy.io import fits\n",
    "\n",
    "%matplotlib inline"
   ]
  },
  {
   "cell_type": "code",
   "execution_count": null,
   "id": "dabcbbab",
   "metadata": {
    "papermill": {
     "duration": 0.212249,
     "end_time": "2023-02-13T04:22:52.220528",
     "exception": false,
     "start_time": "2023-02-13T04:22:52.008279",
     "status": "completed"
    }
   },
   "outputs": [],
   "source": [
    "plt.style.use(\"seaborn-talk\")"
   ]
  },
  {
   "cell_type": "code",
   "execution_count": null,
   "id": "3b27f58d",
   "metadata": {
    "papermill": {
     "duration": 3.83903,
     "end_time": "2023-02-13T04:22:56.249541",
     "exception": false,
     "start_time": "2023-02-13T04:22:52.410511",
     "status": "completed"
    }
   },
   "outputs": [],
   "source": [
    "import pysm3 as pysm\n",
    "import pysm3.units as u"
   ]
  },
  {
   "cell_type": "code",
   "execution_count": null,
   "id": "989ba84d",
   "metadata": {
    "papermill": {
     "duration": 0.209008,
     "end_time": "2023-02-13T04:22:56.644788",
     "exception": false,
     "start_time": "2023-02-13T04:22:56.435780",
     "status": "completed"
    }
   },
   "outputs": [],
   "source": [
    "nside = 2048\n",
    "lmax = 2048"
   ]
  },
  {
   "cell_type": "code",
   "execution_count": null,
   "id": "564f338a",
   "metadata": {
    "papermill": {
     "duration": 0.209734,
     "end_time": "2023-02-13T04:22:57.040679",
     "exception": false,
     "start_time": "2023-02-13T04:22:56.830945",
     "status": "completed"
    }
   },
   "outputs": [],
   "source": [
    "comp = \"IQU\""
   ]
  },
  {
   "cell_type": "code",
   "execution_count": null,
   "id": "73fc5fd2",
   "metadata": {
    "papermill": {
     "duration": 0.231324,
     "end_time": "2023-02-13T04:22:57.457067",
     "exception": false,
     "start_time": "2023-02-13T04:22:57.225743",
     "status": "completed"
    }
   },
   "outputs": [],
   "source": [
    "components = list(enumerate(comp))\n",
    "components"
   ]
  },
  {
   "cell_type": "code",
   "execution_count": null,
   "id": "7e5630d6",
   "metadata": {
    "papermill": {
     "duration": 0.216446,
     "end_time": "2023-02-13T04:22:57.900484",
     "exception": false,
     "start_time": "2023-02-13T04:22:57.684038",
     "status": "completed"
    }
   },
   "outputs": [],
   "source": [
    "spectra_components = [\"TT\", \"EE\", \"BB\"]"
   ]
  },
  {
   "cell_type": "markdown",
   "id": "97f4311d",
   "metadata": {
    "papermill": {
     "duration": 0.189497,
     "end_time": "2023-02-13T04:22:58.281314",
     "exception": false,
     "start_time": "2023-02-13T04:22:58.091817",
     "status": "completed"
    }
   },
   "source": [
    "change this to True   if you want to  run namaster on notebook \n"
   ]
  },
  {
   "cell_type": "code",
   "execution_count": null,
   "id": "ba76b9be",
   "metadata": {
    "papermill": {
     "duration": 0.215634,
     "end_time": "2023-02-13T04:22:58.687097",
     "exception": false,
     "start_time": "2023-02-13T04:22:58.471463",
     "status": "completed"
    }
   },
   "outputs": [],
   "source": [
    "namaster_on_nb = True"
   ]
  },
  {
   "cell_type": "code",
   "execution_count": null,
   "id": "376671b1",
   "metadata": {
    "papermill": {
     "duration": 0.216199,
     "end_time": "2023-02-13T04:22:59.096696",
     "exception": false,
     "start_time": "2023-02-13T04:22:58.880497",
     "status": "completed"
    }
   },
   "outputs": [],
   "source": [
    "datadir = Path(\"data/\")"
   ]
  },
  {
   "cell_type": "code",
   "execution_count": null,
   "id": "4f740e7f",
   "metadata": {
    "papermill": {
     "duration": 0.218127,
     "end_time": "2023-02-13T04:22:59.507190",
     "exception": false,
     "start_time": "2023-02-13T04:22:59.289063",
     "status": "completed"
    }
   },
   "outputs": [],
   "source": [
    "proddatadir = Path(\"/global/cfs/cdirs/cmb/www/pysm-data\") / \"dust_gnilc\" / \"raw\""
   ]
  },
  {
   "cell_type": "markdown",
   "id": "74d110e6",
   "metadata": {
    "papermill": {
     "duration": 0.19108,
     "end_time": "2023-02-13T04:22:59.892574",
     "exception": false,
     "start_time": "2023-02-13T04:22:59.701494",
     "status": "completed"
    }
   },
   "source": [
    "# Setting the inputs \n",
    "## Dust maps \n",
    "- We use the  2015 GNILC intensity map from the 2nd planck release, as it encodes less contamination from CIB with 21.8' resolution https://www.dropbox.com/s/hicocet83z31ob3/COM_CompMap_Dust-GNILC-F353_2048_21p8acm.fits?dl=0\n",
    "\n",
    "- for Q and U we adopt maps from the 3rd Planck release as they were optimized for polarization studies with 80' reso.  \n",
    "\n"
   ]
  },
  {
   "cell_type": "code",
   "execution_count": null,
   "id": "9cb64e3c",
   "metadata": {
    "papermill": {
     "duration": 0.219014,
     "end_time": "2023-02-13T04:23:00.305243",
     "exception": false,
     "start_time": "2023-02-13T04:23:00.086229",
     "status": "completed"
    }
   },
   "outputs": [],
   "source": [
    "dust_varresI = datadir / \"COM_CompMap_Dust-GNILC-F353_2048_21p8acm.fits\""
   ]
  },
  {
   "cell_type": "code",
   "execution_count": null,
   "id": "ad418c44",
   "metadata": {
    "papermill": {
     "duration": 0.225799,
     "end_time": "2023-02-13T04:23:00.725724",
     "exception": false,
     "start_time": "2023-02-13T04:23:00.499925",
     "status": "completed"
    }
   },
   "outputs": [],
   "source": [
    "if not dust_varresI.exists():\n",
    "    !wget -O $dust_varresI https://portal.nersc.gov/project/cmb/pysm-data/dust_gnilc/inputs/COM_CompMap_Dust-GNILC-F353_2048_21p8acm.fits"
   ]
  },
  {
   "cell_type": "markdown",
   "id": "239ed37d",
   "metadata": {
    "papermill": {
     "duration": 0.1926,
     "end_time": "2023-02-13T04:23:01.112493",
     "exception": false,
     "start_time": "2023-02-13T04:23:00.919893",
     "status": "completed"
    }
   },
   "source": [
    "Transform maps to double precision for computations"
   ]
  },
  {
   "cell_type": "code",
   "execution_count": null,
   "id": "2e1a4ea6",
   "metadata": {
    "papermill": {
     "duration": 6.474031,
     "end_time": "2023-02-13T04:23:07.780541",
     "exception": false,
     "start_time": "2023-02-13T04:23:01.306510",
     "status": "completed"
    }
   },
   "outputs": [],
   "source": [
    "I_planck_varres, h = hp.read_map(dust_varresI, dtype=np.float64, h=True)"
   ]
  },
  {
   "cell_type": "markdown",
   "id": "3156e5ae",
   "metadata": {
    "papermill": {
     "duration": 0.194779,
     "end_time": "2023-02-13T04:23:08.175489",
     "exception": false,
     "start_time": "2023-02-13T04:23:07.980710",
     "status": "completed"
    }
   },
   "source": [
    "Maps from the two releases are in different units `MJy/sr` the former, and `K_CMB` the latter, we therefore need to perform some conversion to `uK_RJ`. "
   ]
  },
  {
   "cell_type": "code",
   "execution_count": null,
   "id": "ee4cff18",
   "metadata": {
    "papermill": {
     "duration": 4.505855,
     "end_time": "2023-02-13T04:23:12.876625",
     "exception": false,
     "start_time": "2023-02-13T04:23:08.370770",
     "status": "completed"
    }
   },
   "outputs": [],
   "source": [
    "I_planck_varres <<= u.MJy / u.sr\n",
    "I_planck_varres = I_planck_varres.to(\n",
    "    \"uK_RJ\", equivalencies=u.cmb_equivalencies(353 * u.GHz)\n",
    ")"
   ]
  },
  {
   "cell_type": "code",
   "execution_count": null,
   "id": "cb2ff782",
   "metadata": {
    "papermill": {
     "duration": 0.222067,
     "end_time": "2023-02-13T04:23:13.301861",
     "exception": false,
     "start_time": "2023-02-13T04:23:13.079794",
     "status": "completed"
    }
   },
   "outputs": [],
   "source": [
    "output_nside = 2048\n",
    "output_lmax = 2 * output_nside"
   ]
  },
  {
   "cell_type": "markdown",
   "id": "6ddf53b3",
   "metadata": {
    "papermill": {
     "duration": 0.195894,
     "end_time": "2023-02-13T04:23:13.695379",
     "exception": false,
     "start_time": "2023-02-13T04:23:13.499485",
     "status": "completed"
    }
   },
   "source": [
    "## Amplitude modulation"
   ]
  },
  {
   "cell_type": "code",
   "execution_count": null,
   "id": "87bcba8f",
   "metadata": {
    "papermill": {
     "duration": 20.580062,
     "end_time": "2023-02-13T04:23:34.471784",
     "exception": false,
     "start_time": "2023-02-13T04:23:13.891722",
     "status": "completed"
    }
   },
   "outputs": [],
   "source": [
    "modulate_amp = hp.alm2map(\n",
    "    hp.read_alm(\n",
    "        proddatadir / \"gnilc_dust_temperature_modulation_alms_lmax768.fits.gz\",\n",
    "    ).astype(np.complex128),\n",
    "    nside=output_nside,\n",
    ")"
   ]
  },
  {
   "cell_type": "markdown",
   "id": "a8e610b6",
   "metadata": {
    "papermill": {
     "duration": 0.197041,
     "end_time": "2023-02-13T04:23:34.869512",
     "exception": false,
     "start_time": "2023-02-13T04:23:34.672471",
     "status": "completed"
    }
   },
   "source": [
    "## Injecting small scales to Spectral parameters "
   ]
  },
  {
   "cell_type": "code",
   "execution_count": null,
   "id": "e85992d1",
   "metadata": {
    "papermill": {
     "duration": 0.24709,
     "end_time": "2023-02-13T04:23:35.318042",
     "exception": false,
     "start_time": "2023-02-13T04:23:35.070952",
     "status": "completed"
    }
   },
   "outputs": [],
   "source": [
    "tdfilename = \"COM_CompMap_Dust-GNILC-Model-Temperature_2048_R2.01.fits\"\n",
    "tdfile = datadir / tdfilename\n",
    "\n",
    "if not tdfile.exists():\n",
    "    !wget -O $tdfile  https://irsa.ipac.caltech.edu/data/Planck/release_2/all-sky-maps/maps/component-maps/foregrounds/$tdfilename\n",
    "\n",
    "bdfilename = \"COM_CompMap_Dust-GNILC-Model-Spectral-Index_2048_R2.01.fits\"\n",
    "bdfile = datadir / bdfilename\n",
    "\n",
    "if not bdfile.exists():\n",
    "    !wget -O $bdfile https://irsa.ipac.caltech.edu/data/Planck/release_2/all-sky-maps/maps/component-maps/foregrounds/COM_CompMap_Dust-GNILC-Model-Spectral-Index_2048_R2.01.fits"
   ]
  },
  {
   "cell_type": "code",
   "execution_count": null,
   "id": "a5bb1a07",
   "metadata": {
    "papermill": {
     "duration": 6.803152,
     "end_time": "2023-02-13T04:23:42.319614",
     "exception": false,
     "start_time": "2023-02-13T04:23:35.516462",
     "status": "completed"
    }
   },
   "outputs": [],
   "source": [
    "td = hp.read_map(tdfile, dtype=np.float64)\n",
    "bd = hp.read_map(bdfile, dtype=np.float64)"
   ]
  },
  {
   "cell_type": "code",
   "execution_count": null,
   "id": "b988dc5f",
   "metadata": {},
   "outputs": [],
   "source": [
    "plt.figure(figsize=(20 / 3 * 2, 5))\n",
    "hp.mollview(td, title=\"\", sub=121, min=0, max=50, cbar=False)\n",
    "hp.mollview(bd, title=\"\", sub=122, min=1, max=2.5, cbar=False)"
   ]
  },
  {
   "cell_type": "code",
   "execution_count": null,
   "id": "513a9e44",
   "metadata": {
    "papermill": {
     "duration": 7.311087,
     "end_time": "2023-02-13T04:23:49.834859",
     "exception": false,
     "start_time": "2023-02-13T04:23:42.523772",
     "status": "completed"
    }
   },
   "outputs": [],
   "source": [
    "cltd = hp.anafast(td, use_pixel_weights=True, lmax=lmax)\n",
    "clbd = hp.anafast(bd, use_pixel_weights=True, lmax=lmax)\n",
    "\n",
    "cl = {\"bd\": clbd, \"td\": cltd}\n",
    "dust_params = list(cl.keys())\n",
    "ell = np.arange(lmax + 1)"
   ]
  },
  {
   "cell_type": "code",
   "execution_count": null,
   "id": "efd21360-bc32-4c8b-b25d-9a4f69a68a94",
   "metadata": {},
   "outputs": [],
   "source": [
    "output_ell = np.arange(output_lmax + 1)"
   ]
  },
  {
   "cell_type": "code",
   "execution_count": null,
   "id": "298b8bf5",
   "metadata": {
    "papermill": {
     "duration": 0.225365,
     "end_time": "2023-02-13T04:23:50.264494",
     "exception": false,
     "start_time": "2023-02-13T04:23:50.039129",
     "status": "completed"
    }
   },
   "outputs": [],
   "source": [
    "from scipy.optimize import curve_fit"
   ]
  },
  {
   "cell_type": "code",
   "execution_count": null,
   "id": "670f0daf",
   "metadata": {
    "papermill": {
     "duration": 0.227875,
     "end_time": "2023-02-13T04:23:50.692755",
     "exception": false,
     "start_time": "2023-02-13T04:23:50.464880",
     "status": "completed"
    }
   },
   "outputs": [],
   "source": [
    "def model(ell, A, gamma):\n",
    "    out = A * ell**gamma\n",
    "    out[:2] = 0\n",
    "    return out"
   ]
  },
  {
   "cell_type": "code",
   "execution_count": null,
   "id": "4b7a43c0",
   "metadata": {
    "papermill": {
     "duration": 8.819319,
     "end_time": "2023-02-13T04:23:59.712857",
     "exception": false,
     "start_time": "2023-02-13T04:23:50.893538",
     "status": "completed"
    }
   },
   "outputs": [],
   "source": [
    "ell_fit_low = {\"bd\": 200, \"td\": 100}\n",
    "ell_fit_high = {\"bd\": 400, \"td\": 400}\n",
    "\n",
    "A_fit, gamma_fit, A_fit_std, gamma_fit_std = {}, {}, {}, {}\n",
    "plt.figure(figsize=(25, 5))\n",
    "\n",
    "for ii, pol in enumerate(dust_params):\n",
    "    plt.subplot(131 + ii)\n",
    "    xdata = np.arange(ell_fit_low[pol], ell_fit_high[pol])\n",
    "    ydata = cl[pol][xdata]\n",
    "    (A_fit[pol], gamma_fit[pol]), cov = curve_fit(model, xdata, ydata)\n",
    "\n",
    "    A_fit_std[pol], gamma_fit_std[pol] = np.sqrt(np.diag(cov))\n",
    "    plt.loglog(ell, cl[pol], label=\" Anafast $C_\\ell$\")\n",
    "\n",
    "    plt.plot(\n",
    "        ell[ell_fit_low[pol] // 2 : ell_fit_high[pol] * 2],\n",
    "        model(\n",
    "            ell[ell_fit_low[pol] // 2 : ell_fit_high[pol] * 2],\n",
    "            A_fit[pol],\n",
    "            gamma_fit[pol],\n",
    "        ),\n",
    "        label=\"model fit\",\n",
    "    )\n",
    "\n",
    "    plt.axvline(\n",
    "        ell_fit_low[pol],\n",
    "        linestyle=\"--\",\n",
    "        color=\"black\",\n",
    "        label=\"$ \\ell={} $\".format(ell_fit_low[pol]),\n",
    "    )\n",
    "    plt.axvline(\n",
    "        ell_fit_high[pol],\n",
    "        linestyle=\"--\",\n",
    "        color=\"gray\",\n",
    "        label=\"$ \\ell={} $\".format(ell_fit_high[pol]),\n",
    "    )\n",
    "    plt.legend()\n",
    "    plt.grid()\n",
    "    plt.title(\n",
    "        f\"{pol}   spectrum for dust   \" + r\"$\\gamma_{fit}=$\" + f\"{gamma_fit[pol]:.2f}\"\n",
    "    )\n",
    "\n",
    "    plt.ylabel(\"$ C_\\ell $\")\n",
    "    plt.xlabel((\"$\\ell$\"))\n",
    "    plt.xlim(2, lmax)"
   ]
  },
  {
   "cell_type": "markdown",
   "id": "b988f9a5",
   "metadata": {
    "papermill": {
     "duration": 0.210827,
     "end_time": "2023-02-13T04:24:00.139279",
     "exception": false,
     "start_time": "2023-02-13T04:23:59.928452",
     "status": "completed"
    }
   },
   "source": [
    "- We inject smaller angular scales to the maps  by extrapolating the power law fitted from the GNILC spectral parameter maps \n",
    "\n",
    "- Smaller angular scales are modulated similarly as the intensity map in pol tens formalism. \n",
    "\n",
    "- the multipoles where the fit is performed are different given the observed spectra . In any case we don't fit beyond $\\ell=400$, which is consistent with the TT analysis above \n",
    "- given the fact that we inject smaller angular scales with a steeper spectral index  than TT\n",
    "$$\\gamma_{\\beta} = -1.96, \\gamma_{Td} = -2.47, \\gamma_{TT}= -1.29$$\n",
    "\n",
    "we don't expect to injecti _small scale noise_ when rescaling at frequencies orders of magnitude lower or larger than  the reference one ( 353 GHz). \n"
   ]
  },
  {
   "cell_type": "code",
   "execution_count": null,
   "id": "da210b80",
   "metadata": {
    "papermill": {
     "duration": 0.24423,
     "end_time": "2023-02-13T04:24:00.593060",
     "exception": false,
     "start_time": "2023-02-13T04:24:00.348830",
     "status": "completed"
    }
   },
   "outputs": [],
   "source": [
    "def sigmoid(x, x0, width, power=4):\n",
    "    \"\"\"Sigmoid function given start point and width\n",
    "    Parameters\n",
    "    ----------\n",
    "    x : array\n",
    "        input x axis\n",
    "    x0 : float\n",
    "        value of x where the sigmoid starts (not the center)\n",
    "    width : float\n",
    "        width of the transition region in unit of x\n",
    "    power : float\n",
    "        tweak the steepness of the curve\n",
    "    Returns\n",
    "    -------\n",
    "    sigmoid : array\n",
    "        sigmoid, same length of x\"\"\"\n",
    "    return 1.0 / (1 + np.exp(-power * (x - x0 - width / 2) / width))"
   ]
  },
  {
   "cell_type": "markdown",
   "id": "c4eb1ebd",
   "metadata": {
    "papermill": {
     "duration": 0.214642,
     "end_time": "2023-02-13T04:24:01.071565",
     "exception": false,
     "start_time": "2023-02-13T04:24:00.856923",
     "status": "completed"
    }
   },
   "source": [
    "### Small scales"
   ]
  },
  {
   "cell_type": "code",
   "execution_count": null,
   "id": "ae128348",
   "metadata": {
    "papermill": {
     "duration": 510.817709,
     "end_time": "2023-02-13T04:32:32.101644",
     "exception": false,
     "start_time": "2023-02-13T04:24:01.283935",
     "status": "completed"
    }
   },
   "outputs": [],
   "source": [
    "# filter small scales\n",
    "small_scales_input_cl = [\n",
    "    1\n",
    "    * model(output_ell, A_fit[pol], gamma_fit[pol])\n",
    "    * (sigmoid(output_ell, ell_fit_high[pol], ell_fit_high[pol] / 10))\n",
    "    for pol in dust_params\n",
    "]\n",
    "\n",
    "names = [\"beta\", \"Td\"]\n",
    "\n",
    "np.random.seed(777)\n",
    "bd_ss_alm = hp.synalm(small_scales_input_cl[0], lmax=output_lmax)\n",
    "np.random.seed(888)\n",
    "td_ss_alm = hp.synalm(small_scales_input_cl[1], lmax=output_lmax)\n",
    "\n",
    "\n",
    "bd_ss = hp.alm2map(bd_ss_alm, nside=output_nside)\n",
    "td_ss = hp.alm2map(td_ss_alm, nside=output_nside)\n",
    "\n",
    "\n",
    "bd_ss *= modulate_amp\n",
    "td_ss *= modulate_amp"
   ]
  },
  {
   "cell_type": "code",
   "execution_count": null,
   "id": "d71656e2-930a-46eb-9667-4df078e7ec67",
   "metadata": {},
   "outputs": [],
   "source": [
    "plt.figure(figsize=(20 / 3 * 2, 5))\n",
    "hp.mollview(td_ss, title=\"\", sub=121, cbar=False)\n",
    "hp.mollview(bd_ss, title=\"\", sub=122, cbar=False)"
   ]
  },
  {
   "cell_type": "markdown",
   "id": "d838fac8",
   "metadata": {
    "papermill": {
     "duration": 0.215527,
     "end_time": "2023-02-13T04:32:32.535043",
     "exception": false,
     "start_time": "2023-02-13T04:32:32.319516",
     "status": "completed"
    }
   },
   "source": [
    "### Large scales"
   ]
  },
  {
   "cell_type": "code",
   "execution_count": null,
   "id": "9d3ec35b",
   "metadata": {
    "papermill": {
     "duration": 0.24026,
     "end_time": "2023-02-13T04:32:32.990560",
     "exception": false,
     "start_time": "2023-02-13T04:32:32.750300",
     "status": "completed"
    }
   },
   "outputs": [],
   "source": [
    "largescale_lmax = 1024"
   ]
  },
  {
   "cell_type": "code",
   "execution_count": null,
   "id": "a1c1607e",
   "metadata": {
    "papermill": {
     "duration": 47.764042,
     "end_time": "2023-02-13T04:33:20.970848",
     "exception": false,
     "start_time": "2023-02-13T04:32:33.206806",
     "status": "completed"
    }
   },
   "outputs": [],
   "source": [
    "alm_bd = hp.map2alm(bd, lmax=largescale_lmax, use_pixel_weights=True)\n",
    "alm_td = hp.map2alm(td, lmax=largescale_lmax, use_pixel_weights=True)\n",
    "\n",
    "sig_func = sigmoid(ell, x0=ell_fit_high[\"bd\"], width=ell_fit_high[\"bd\"] / 10)\n",
    "bd_LS_alm = hp.almxfl(alm_bd, np.sqrt(1.0 - sig_func))\n",
    "td_LS_alm = hp.almxfl(alm_td, np.sqrt(1.0 - sig_func))\n",
    "\n",
    "bd_ls = hp.alm2map(bd_LS_alm, nside=output_nside)\n",
    "td_ls = hp.alm2map(td_LS_alm, nside=output_nside)"
   ]
  },
  {
   "cell_type": "code",
   "execution_count": null,
   "id": "93c99b82",
   "metadata": {},
   "outputs": [],
   "source": [
    "hp.gnomview(td_ls, xsize=1000, title=\"Large scales Td\")\n",
    "hp.gnomview(bd_ls, xsize=1000, title=\"Large scales Bd\")"
   ]
  },
  {
   "cell_type": "markdown",
   "id": "a3835a36",
   "metadata": {
    "papermill": {
     "duration": 0.215747,
     "end_time": "2023-02-13T04:33:21.407486",
     "exception": false,
     "start_time": "2023-02-13T04:33:21.191739",
     "status": "completed"
    }
   },
   "source": [
    "### Final map"
   ]
  },
  {
   "cell_type": "code",
   "execution_count": null,
   "id": "734338c8",
   "metadata": {
    "papermill": {
     "duration": 19.808654,
     "end_time": "2023-02-13T04:33:41.433596",
     "exception": false,
     "start_time": "2023-02-13T04:33:21.624942",
     "status": "completed"
    }
   },
   "outputs": [],
   "source": [
    "bd_out = bd_ss + bd_ls\n",
    "td_out = td_ss + td_ls"
   ]
  },
  {
   "cell_type": "code",
   "execution_count": null,
   "id": "944e3f79",
   "metadata": {},
   "outputs": [],
   "source": [
    "plt.figure(figsize=(20 / 3 * 2, 5))\n",
    "hp.mollview(td_out, title=\"\", sub=121, min=0, max=50, cbar=False)\n",
    "hp.mollview(bd_out, title=\"\", sub=122, min=1, max=2.5, cbar=False)"
   ]
  },
  {
   "cell_type": "code",
   "execution_count": null,
   "id": "c86f2a7c",
   "metadata": {},
   "outputs": [],
   "source": []
  }
 ],
 "metadata": {
  "@webio": {
   "lastCommId": null,
   "lastKernelId": null
  },
  "language_info": {
   "codemirror_mode": {
    "name": "ipython"
   },
   "file_extension": ".py",
   "mimetype": "text/x-python",
   "name": "python",
   "nbconvert_exporter": "python"
  },
  "papermill": {
   "default_parameters": {},
   "duration": 859.165365,
   "end_time": "2023-02-13T04:36:43.764167",
   "environment_variables": {},
   "exception": null,
   "input_path": "gnilc_dust_spectralindex_Tdust.ipynb",
   "output_path": "data/gnilc_dust_spectralindex_Tdust_executed.ipynb",
   "parameters": {},
   "start_time": "2023-02-13T04:22:24.598802",
   "version": "2.3.3"
  },
  "toc-autonumbering": false
 },
 "nbformat": 4,
 "nbformat_minor": 5
}
